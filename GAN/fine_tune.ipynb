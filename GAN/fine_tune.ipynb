{
 "cells": [
  {
   "cell_type": "code",
   "execution_count": null,
   "id": "aafd4060",
   "metadata": {},
   "outputs": [],
   "source": [
    "from CONSTANTS import max_smile_len, min_smile_len,device,char2idx,idx2char,esm_model_path\n",
    "import pandas as pd\n",
    "from fine_tune_utils import fine_tune_on_virus,evaluate_generated_vs_known_inhibitors\n",
    "from  Generator import Generator\n",
    "from  Discriminator import Discriminator\n",
    "from train_utilis import load_checkpoint\n",
    "import torch\n",
    "from DTI import DrugTargetGNN\n",
    "import esm\n",
    "from test_generator import evaluate_generated_vs_known_inhibitors\n"
   ]
  },
  {
   "cell_type": "code",
   "execution_count": null,
   "id": "c12a8643",
   "metadata": {},
   "outputs": [],
   "source": [
    "sars_cov2_inhibitor_smiles = [\n",
    "    \"CC1=CC=C(C=C1)NC(=O)C2CCC(C2)C3=CC=CC=C3\",  # Nirmatrelvir (Paxlovid)\n",
    "    \"CCOC(=O)C1=NC=CN=C1NC2=CC=CC=C2\",           # Favipiravir (approx.)\n",
    "   \n",
    "]\n",
    "sars_cov2 = \"MYSFVSEETGTLIVNSVLLFLAFVVFLLVTLAILTALRLCAYCCNIVNVSLVKPSFYVYSRVKNLNSSRVPDLLV\"\n",
    "influenza_a_inhibitor_smiles = [\n",
    "    \"CC1(C)C(=O)NC(=O)N(C1C)C2CC2\",            # Oseltamivir (Tamiflu)\n",
    "    \"C1CN2CCC1C(C2)NC(=O)C(CO)NC(=O)C3=CC=CC=C3\",  # Zanamivir\n",
    "]\n",
    "influenza_a= \"MSLLTEVETPIRNEWGCRCNDSSDPLVVAASIIGILHLILWILDRLFFKCIYRRFKYGLKRGWISIRRSRIN\"  \n",
    "  \n"
   ]
  },
  {
   "cell_type": "code",
   "execution_count": null,
   "id": "d2839a6c",
   "metadata": {},
   "outputs": [],
   "source": [
    "\n",
    "drugs=pd.read_csv(\"/kaggle/input/virus-drug/virus_drug_interactions.csv\")\n",
    "\n",
    "drugs = drugs[drugs['SMILES'].str.len().between(min_smile_len, max_smile_len-2)]\n",
    "drugs=drugs['SMILES'].unique()\n"
   ]
  },
  {
   "cell_type": "markdown",
   "id": "f100054c",
   "metadata": {},
   "source": [
    "### fine tuning\n"
   ]
  },
  {
   "cell_type": "code",
   "execution_count": null,
   "id": "615fac64",
   "metadata": {},
   "outputs": [],
   "source": [
    "generator= Generator.Generator()\n",
    "discriminator= Discriminator.Discriminator()\n",
    "generator, discriminator = load_checkpoint(generator, discriminator, \"checkpoint.pth.tar\")\n",
    "fine_tune_on_virus(influenza_a,drugs,generator,discriminator,)\n"
   ]
  },
  {
   "cell_type": "code",
   "execution_count": null,
   "id": "84d1d0e1",
   "metadata": {},
   "outputs": [],
   "source": [
    "DTI_model = DrugTargetGNN()\n",
    "DTI_model.load_state_dict(torch.load(r\"/kaggle/input/drug-target/pytorch/default/2/drug_target_model2.pth\", map_location=device))\n",
    "DTI_model.to(device)\n",
    "DTI_model.eval()\n",
    "esm_model, esm_alphabet = esm.pretrained.esm1b_t33_650M_UR50S()\n",
    "esm_model.eval()"
   ]
  },
  {
   "cell_type": "code",
   "execution_count": null,
   "id": "a2ca18fa",
   "metadata": {},
   "outputs": [],
   "source": [
    "h=evaluate_generated_vs_known_inhibitors(influenza_a_inhibitor_smiles,generator, DTI_model, esm_model, esm_alphabet, influenza_a, char2idx, idx2char, device)"
   ]
  }
 ],
 "metadata": {
  "kernelspec": {
   "display_name": "base",
   "language": "python",
   "name": "python3"
  },
  "language_info": {
   "codemirror_mode": {
    "name": "ipython",
    "version": 3
   },
   "file_extension": ".py",
   "mimetype": "text/x-python",
   "name": "python",
   "nbconvert_exporter": "python",
   "pygments_lexer": "ipython3",
   "version": "3.12.10"
  }
 },
 "nbformat": 4,
 "nbformat_minor": 5
}
