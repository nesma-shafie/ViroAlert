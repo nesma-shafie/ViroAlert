{
 "cells": [
  {
   "cell_type": "code",
   "execution_count": null,
   "metadata": {
    "_cell_guid": "b1076dfc-b9ad-4769-8c92-a6c4dae69d19",
    "_uuid": "8f2839f25d086af736a60e9eeb907d3b93b6e0e5",
    "execution": {
     "iopub.execute_input": "2025-06-11T22:00:43.844673Z",
     "iopub.status.busy": "2025-06-11T22:00:43.844323Z",
     "iopub.status.idle": "2025-06-11T22:00:43.851167Z",
     "shell.execute_reply": "2025-06-11T22:00:43.850176Z",
     "shell.execute_reply.started": "2025-06-11T22:00:43.844649Z"
    },
    "trusted": true
   },
   "outputs": [],
   "source": [
    "import numpy as np\n",
    "import pandas as pd \n",
    "from tqdm import tqdm\n",
    "from collections import Counter\n",
    "from itertools import product\n",
    "import os\n",
    "from utils import *\n",
    "from sklearn.model_selection import train_test_split\n",
    "from sklearn.ensemble import RandomForestClassifier\n",
    "from sklearn.svm import SVC\n",
    "from sklearn.metrics import classification_report, accuracy_score,confusion_matrix, ConfusionMatrixDisplay\n",
    "import gc\n",
    "import joblib\n",
    "from sklearn.linear_model import LogisticRegression\n",
    "import matplotlib.pyplot as plt\n"
   ]
  },
  {
   "cell_type": "code",
   "execution_count": null,
   "metadata": {
    "execution": {
     "iopub.execute_input": "2025-06-11T22:00:43.896557Z",
     "iopub.status.busy": "2025-06-11T22:00:43.896172Z",
     "iopub.status.idle": "2025-06-11T22:00:45.659272Z",
     "shell.execute_reply": "2025-06-11T22:00:45.658206Z",
     "shell.execute_reply.started": "2025-06-11T22:00:43.896523Z"
    },
    "trusted": true
   },
   "outputs": [],
   "source": [
    "df_ncbi=read_data_from_file(file_name_ncbi_datas)\n",
    "df_test_ncbi=read_data_from_file(ncbi_test_file_name)\n",
    "\n",
    "df_train = pd.concat([df_test_ncbi, df_ncbi], ignore_index=True)\n",
    "\n",
    "df_gasaid=read_data_from_file(file_name_gasaid_datas)\n",
    "df_test_gasaid=read_data_from_file(gasaid_test_file_name)\n",
    "\n",
    "df_test = pd.concat([df_test_gasaid, df_gasaid], ignore_index=True)"
   ]
  },
  {
   "cell_type": "code",
   "execution_count": null,
   "metadata": {
    "execution": {
     "iopub.execute_input": "2025-06-11T22:00:45.660645Z",
     "iopub.status.busy": "2025-06-11T22:00:45.660218Z",
     "iopub.status.idle": "2025-06-11T22:00:45.666190Z",
     "shell.execute_reply": "2025-06-11T22:00:45.665396Z",
     "shell.execute_reply.started": "2025-06-11T22:00:45.660616Z"
    },
    "trusted": true
   },
   "outputs": [],
   "source": [
    "print(len(df_train))\n",
    "print(len(df_test))"
   ]
  },
  {
   "cell_type": "code",
   "execution_count": null,
   "metadata": {
    "execution": {
     "iopub.execute_input": "2025-06-11T22:00:45.708804Z",
     "iopub.status.busy": "2025-06-11T22:00:45.708457Z",
     "iopub.status.idle": "2025-06-11T22:00:45.731615Z",
     "shell.execute_reply": "2025-06-11T22:00:45.730565Z",
     "shell.execute_reply.started": "2025-06-11T22:00:45.708784Z"
    },
    "trusted": true
   },
   "outputs": [],
   "source": [
    "# All the m-mers (not k-mers!) combinations\n",
    "combos = get_all_combinations(alphabet, k)\n",
    "combo_index = {mer: i for i, mer in enumerate(combos)}  # Faster lookup\n",
    "v = np.zeros(len(combos))"
   ]
  },
  {
   "cell_type": "code",
   "execution_count": null,
   "metadata": {
    "execution": {
     "iopub.execute_input": "2025-06-11T22:00:45.735689Z",
     "iopub.status.busy": "2025-06-11T22:00:45.735322Z",
     "iopub.status.idle": "2025-06-11T22:00:45.750810Z",
     "shell.execute_reply": "2025-06-11T22:00:45.749779Z",
     "shell.execute_reply.started": "2025-06-11T22:00:45.735666Z"
    },
    "trusted": true
   },
   "outputs": [],
   "source": [
    "def MFV(S, alphabet, k):\n",
    "    V = np.zeros((len(S), len(combos)), dtype=np.float32)\n",
    "    for j, seq  in enumerate(tqdm(S, desc=\"Processing sequences\")):\n",
    "        kmers = get_kmers(seq, k) # List of (k-mers)\n",
    "\n",
    "        v.fill(0) # feature vector of size |Σ|^m\n",
    "        \n",
    "        for kmer in kmers:   \n",
    "            idx = combo_index[kmer]  # find index of the i-th m-mer\n",
    "            v[idx] += 1  # add the minimizer's score\n",
    "        \n",
    "        V[j, :] = v  # Assign the computed vector directly to row j\n",
    "    return V"
   ]
  },
  {
   "cell_type": "code",
   "execution_count": null,
   "metadata": {
    "execution": {
     "iopub.execute_input": "2025-06-11T22:00:45.752168Z",
     "iopub.status.busy": "2025-06-11T22:00:45.751871Z",
     "iopub.status.idle": "2025-06-11T22:01:10.611814Z",
     "shell.execute_reply": "2025-06-11T22:01:10.610798Z",
     "shell.execute_reply.started": "2025-06-11T22:00:45.752145Z"
    },
    "trusted": true
   },
   "outputs": [],
   "source": [
    "vectors = MFV(df_train['Sequence'], alphabet, k)\n",
    "vectors.shape"
   ]
  },
  {
   "cell_type": "code",
   "execution_count": null,
   "metadata": {
    "execution": {
     "iopub.execute_input": "2025-06-11T22:01:10.612916Z",
     "iopub.status.busy": "2025-06-11T22:01:10.612667Z",
     "iopub.status.idle": "2025-06-11T22:01:10.638323Z",
     "shell.execute_reply": "2025-06-11T22:01:10.637393Z",
     "shell.execute_reply.started": "2025-06-11T22:01:10.612896Z"
    },
    "trusted": true
   },
   "outputs": [],
   "source": [
    "labels = np.array((df_train[\"Class\"].str.lower() != \"human\").astype(int))\n",
    "labels.size"
   ]
  },
  {
   "cell_type": "code",
   "execution_count": null,
   "metadata": {
    "execution": {
     "iopub.execute_input": "2025-06-11T22:01:10.639252Z",
     "iopub.status.busy": "2025-06-11T22:01:10.639032Z",
     "iopub.status.idle": "2025-06-11T22:01:11.888426Z",
     "shell.execute_reply": "2025-06-11T22:01:11.887509Z",
     "shell.execute_reply.started": "2025-06-11T22:01:10.639236Z"
    },
    "trusted": true
   },
   "outputs": [],
   "source": [
    "X_train, X_val, y_train, y_val = train_test_split(vectors, labels, test_size=0.2, random_state=42, stratify=labels)"
   ]
  },
  {
   "cell_type": "code",
   "execution_count": null,
   "metadata": {
    "execution": {
     "iopub.execute_input": "2025-06-11T22:01:11.889997Z",
     "iopub.status.busy": "2025-06-11T22:01:11.889720Z",
     "iopub.status.idle": "2025-06-11T22:01:12.256027Z",
     "shell.execute_reply": "2025-06-11T22:01:12.255070Z",
     "shell.execute_reply.started": "2025-06-11T22:01:11.889976Z"
    },
    "trusted": true
   },
   "outputs": [],
   "source": [
    "del vectors        \n",
    "del labels     \n",
    "gc.collect()  # Force garbage collection"
   ]
  },
  {
   "cell_type": "code",
   "execution_count": null,
   "metadata": {
    "execution": {
     "iopub.execute_input": "2025-06-11T22:01:12.257488Z",
     "iopub.status.busy": "2025-06-11T22:01:12.257126Z",
     "iopub.status.idle": "2025-06-11T22:01:19.227942Z",
     "shell.execute_reply": "2025-06-11T22:01:19.227100Z",
     "shell.execute_reply.started": "2025-06-11T22:01:12.257455Z"
    },
    "trusted": true
   },
   "outputs": [],
   "source": [
    "X_test = MFV(df_test['Sequence'], alphabet, k)\n",
    "y_test = np.array((df_test[\"Class\"].str.lower() != \"human\").astype(int))"
   ]
  },
  {
   "cell_type": "code",
   "execution_count": null,
   "metadata": {
    "execution": {
     "iopub.execute_input": "2025-06-11T22:01:19.234738Z",
     "iopub.status.busy": "2025-06-11T22:01:19.234476Z",
     "iopub.status.idle": "2025-06-11T22:03:49.402679Z",
     "shell.execute_reply": "2025-06-11T22:03:49.401736Z",
     "shell.execute_reply.started": "2025-06-11T22:01:19.234720Z"
    },
    "trusted": true
   },
   "outputs": [],
   "source": [
    "rf = RandomForestClassifier(n_estimators=100, random_state=42)\n",
    "rf.fit(X_train, y_train)"
   ]
  },
  {
   "cell_type": "code",
   "execution_count": null,
   "metadata": {
    "execution": {
     "iopub.execute_input": "2025-06-11T22:03:49.412045Z",
     "iopub.status.busy": "2025-06-11T22:03:49.411716Z",
     "iopub.status.idle": "2025-06-11T22:03:50.779697Z",
     "shell.execute_reply": "2025-06-11T22:03:50.778820Z",
     "shell.execute_reply.started": "2025-06-11T22:03:49.412015Z"
    },
    "trusted": true
   },
   "outputs": [],
   "source": [
    "preds = RandomForest(X_test,y_test,rf)"
   ]
  },
  {
   "cell_type": "code",
   "execution_count": null,
   "metadata": {
    "execution": {
     "iopub.execute_input": "2025-06-11T22:03:50.781053Z",
     "iopub.status.busy": "2025-06-11T22:03:50.780734Z",
     "iopub.status.idle": "2025-06-11T22:03:51.049828Z",
     "shell.execute_reply": "2025-06-11T22:03:51.048806Z",
     "shell.execute_reply.started": "2025-06-11T22:03:50.781026Z"
    },
    "trusted": true
   },
   "outputs": [],
   "source": [
    "con_matrix(y_test,preds)"
   ]
  },
  {
   "cell_type": "code",
   "execution_count": null,
   "metadata": {
    "execution": {
     "iopub.execute_input": "2025-06-11T22:03:51.051314Z",
     "iopub.status.busy": "2025-06-11T22:03:51.051001Z",
     "iopub.status.idle": "2025-06-11T22:03:51.162138Z",
     "shell.execute_reply": "2025-06-11T22:03:51.161257Z",
     "shell.execute_reply.started": "2025-06-11T22:03:51.051282Z"
    },
    "trusted": true
   },
   "outputs": [],
   "source": [
    "# Save\n",
    "joblib.dump(rf, 'RF_All_train_MFV.pkl')"
   ]
  },
  {
   "cell_type": "code",
   "execution_count": null,
   "metadata": {
    "execution": {
     "iopub.execute_input": "2025-06-11T22:03:51.163201Z",
     "iopub.status.busy": "2025-06-11T22:03:51.162957Z",
     "iopub.status.idle": "2025-06-11T22:10:33.694622Z",
     "shell.execute_reply": "2025-06-11T22:10:33.693708Z",
     "shell.execute_reply.started": "2025-06-11T22:03:51.163183Z"
    },
    "trusted": true
   },
   "outputs": [],
   "source": [
    "lr = LogisticRegression(max_iter=1000, random_state=42)\n",
    "lr.fit(X_train, y_train)"
   ]
  },
  {
   "cell_type": "code",
   "execution_count": null,
   "metadata": {
    "execution": {
     "iopub.execute_input": "2025-06-11T22:10:33.696055Z",
     "iopub.status.busy": "2025-06-11T22:10:33.695726Z",
     "iopub.status.idle": "2025-06-11T22:10:34.291364Z",
     "shell.execute_reply": "2025-06-11T22:10:34.290385Z",
     "shell.execute_reply.started": "2025-06-11T22:10:33.696027Z"
    },
    "trusted": true
   },
   "outputs": [],
   "source": [
    "preds = LogisticReg(X_test,y_test, lr)"
   ]
  },
  {
   "cell_type": "code",
   "execution_count": null,
   "metadata": {
    "execution": {
     "iopub.execute_input": "2025-06-11T22:10:34.293216Z",
     "iopub.status.busy": "2025-06-11T22:10:34.292329Z",
     "iopub.status.idle": "2025-06-11T22:10:34.473037Z",
     "shell.execute_reply": "2025-06-11T22:10:34.472145Z",
     "shell.execute_reply.started": "2025-06-11T22:10:34.293192Z"
    },
    "trusted": true
   },
   "outputs": [],
   "source": [
    "con_matrix(y_test,preds)"
   ]
  },
  {
   "cell_type": "code",
   "execution_count": null,
   "metadata": {
    "execution": {
     "iopub.execute_input": "2025-06-11T22:10:34.476780Z",
     "iopub.status.busy": "2025-06-11T22:10:34.476473Z",
     "iopub.status.idle": "2025-06-11T22:10:34.484271Z",
     "shell.execute_reply": "2025-06-11T22:10:34.483375Z",
     "shell.execute_reply.started": "2025-06-11T22:10:34.476757Z"
    },
    "trusted": true
   },
   "outputs": [],
   "source": [
    "# Save\n",
    "joblib.dump(lr, 'LR_All_train_MFV.pkl')"
   ]
  },
  {
   "cell_type": "code",
   "execution_count": null,
   "metadata": {
    "execution": {
     "iopub.execute_input": "2025-06-11T22:10:34.485816Z",
     "iopub.status.busy": "2025-06-11T22:10:34.485234Z",
     "iopub.status.idle": "2025-06-11T23:40:15.516756Z",
     "shell.execute_reply": "2025-06-11T23:40:15.514865Z",
     "shell.execute_reply.started": "2025-06-11T22:10:34.485794Z"
    },
    "trusted": true
   },
   "outputs": [],
   "source": [
    "svm = SVC(kernel='rbf',random_state=42)\n",
    "svm.fit(X_train, y_train)"
   ]
  },
  {
   "cell_type": "code",
   "execution_count": null,
   "metadata": {
    "execution": {
     "iopub.execute_input": "2025-06-11T23:40:15.519737Z",
     "iopub.status.busy": "2025-06-11T23:40:15.519198Z",
     "iopub.status.idle": "2025-06-12T00:09:02.197715Z",
     "shell.execute_reply": "2025-06-12T00:09:02.196668Z",
     "shell.execute_reply.started": "2025-06-11T23:40:15.519652Z"
    },
    "trusted": true
   },
   "outputs": [],
   "source": [
    "preds = SVM(X_test,y_test, svm)"
   ]
  },
  {
   "cell_type": "code",
   "execution_count": null,
   "metadata": {
    "execution": {
     "iopub.execute_input": "2025-06-12T00:09:02.199300Z",
     "iopub.status.busy": "2025-06-12T00:09:02.199031Z",
     "iopub.status.idle": "2025-06-12T00:09:02.442300Z",
     "shell.execute_reply": "2025-06-12T00:09:02.441330Z",
     "shell.execute_reply.started": "2025-06-12T00:09:02.199280Z"
    },
    "trusted": true
   },
   "outputs": [],
   "source": [
    "con_matrix(y_test,preds)"
   ]
  },
  {
   "cell_type": "code",
   "execution_count": null,
   "metadata": {
    "execution": {
     "iopub.execute_input": "2025-06-12T00:09:02.443827Z",
     "iopub.status.busy": "2025-06-12T00:09:02.443463Z",
     "iopub.status.idle": "2025-06-12T00:09:03.560318Z",
     "shell.execute_reply": "2025-06-12T00:09:03.559439Z",
     "shell.execute_reply.started": "2025-06-12T00:09:02.443793Z"
    },
    "trusted": true
   },
   "outputs": [],
   "source": [
    "# Save\n",
    "joblib.dump(svm, 'SVM_All_train_MFV.pkl')"
   ]
  }
 ],
 "metadata": {
  "kaggle": {
   "accelerator": "none",
   "dataSources": [
    {
     "datasetId": 6981441,
     "sourceId": 12123416,
     "sourceType": "datasetVersion"
    }
   ],
   "dockerImageVersionId": 31040,
   "isGpuEnabled": false,
   "isInternetEnabled": true,
   "language": "python",
   "sourceType": "notebook"
  },
  "kernelspec": {
   "display_name": "Python 3",
   "language": "python",
   "name": "python3"
  },
  "language_info": {
   "codemirror_mode": {
    "name": "ipython",
    "version": 3
   },
   "file_extension": ".py",
   "mimetype": "text/x-python",
   "name": "python",
   "nbconvert_exporter": "python",
   "pygments_lexer": "ipython3",
   "version": "3.11.11"
  }
 },
 "nbformat": 4,
 "nbformat_minor": 4
}
