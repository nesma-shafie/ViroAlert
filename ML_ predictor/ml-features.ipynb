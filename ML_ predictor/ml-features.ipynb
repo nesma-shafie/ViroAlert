{
 "cells": [
  {
   "cell_type": "code",
   "execution_count": null,
   "metadata": {
    "_cell_guid": "b1076dfc-b9ad-4769-8c92-a6c4dae69d19",
    "_uuid": "8f2839f25d086af736a60e9eeb907d3b93b6e0e5",
    "execution": {
     "iopub.execute_input": "2025-06-17T10:37:46.245327Z",
     "iopub.status.busy": "2025-06-17T10:37:46.244946Z",
     "iopub.status.idle": "2025-06-17T10:37:46.251062Z",
     "shell.execute_reply": "2025-06-17T10:37:46.249626Z",
     "shell.execute_reply.started": "2025-06-17T10:37:46.245285Z"
    },
    "trusted": true
   },
   "outputs": [],
   "source": [
    "# !pip install --upgrade --no-cache-dir biopython\n",
    "# !pip install rdkit-pypi"
   ]
  },
  {
   "cell_type": "code",
   "execution_count": null,
   "metadata": {
    "execution": {
     "iopub.execute_input": "2025-06-17T10:37:46.256231Z",
     "iopub.status.busy": "2025-06-17T10:37:46.255911Z",
     "iopub.status.idle": "2025-06-17T10:37:46.283105Z",
     "shell.execute_reply": "2025-06-17T10:37:46.281618Z",
     "shell.execute_reply.started": "2025-06-17T10:37:46.256206Z"
    },
    "trusted": true
   },
   "outputs": [],
   "source": [
    "import numpy as np\n",
    "from collections import Counter\n",
    "import pandas as pd \n",
    "from Bio.Align import substitution_matrices\n",
    "from sklearn.cluster import KMeans\n",
    "from scipy.spatial.distance import squareform\n",
    "from scipy.cluster.hierarchy import linkage, fcluster\n",
    "from rdkit import Chem\n",
    "from rdkit.Chem import AllChem\n",
    "# from tqdm import tqdm\n",
    "from tqdm.notebook import tqdm\n",
    "from itertools import product\n",
    "from sklearn.model_selection import train_test_split\n",
    "from sklearn.ensemble import RandomForestClassifier\n",
    "from sklearn.svm import SVC\n",
    "from sklearn.metrics import classification_report, accuracy_score,roc_auc_score\n",
    "import gc\n",
    "import joblib\n",
    "from joblib import Parallel, delayed\n",
    "from sklearn.metrics import confusion_matrix, ConfusionMatrixDisplay\n",
    "import matplotlib.pyplot as plt\n",
    "from sklearn.linear_model import LogisticRegression\n",
    "import os\n",
    "import itertools\n",
    "from sklearn.manifold import TSNE\n",
    "from sklearn.decomposition import PCA\n",
    "from sklearn.metrics import roc_curve, auc\n",
    "import itertools\n",
    "\n",
    "from utils import *\n"
   ]
  },
  {
   "cell_type": "code",
   "execution_count": null,
   "metadata": {
    "execution": {
     "iopub.execute_input": "2025-06-17T10:37:46.290580Z",
     "iopub.status.busy": "2025-06-17T10:37:46.290251Z",
     "iopub.status.idle": "2025-06-17T10:37:46.312354Z",
     "shell.execute_reply": "2025-06-17T10:37:46.310404Z",
     "shell.execute_reply.started": "2025-06-17T10:37:46.290559Z"
    },
    "trusted": true
   },
   "outputs": [],
   "source": [
    "# Hydrophobicity (h1) and Hydrophilicity (h2)\n",
    "hydrophobicity = {\n",
    "    'A': 0.62,  'C': 0.29,  'D': -0.90, 'E': -0.74, 'F': 1.19,\n",
    "    'G': 0.48,  'H': -0.40, 'I': 1.38,  'K': -1.50, 'L': 1.06,\n",
    "    'M': 0.64,  'N': -0.78, 'P': 0.12,  'Q': -0.85, 'R': -2.53,\n",
    "    'S': -0.18, 'T': -0.05, 'V': 1.08,  'W': 0.81,  'Y': 0.26\n",
    "}\n",
    "\n",
    "hydrophilicity = {\n",
    "    'A': -0.50, 'C': -1.00, 'D': 3.00,  'E': 3.00,  'F': -2.50,\n",
    "    'G': 0.00,  'H': -0.50, 'I': -1.80, 'K': 3.00,  'L': -1.80,\n",
    "    'M': -1.30, 'N': 0.20,  'P': 0.00,  'Q': 0.20,  'R': 3.00,\n",
    "    'S': 0.30,  'T': -0.40, 'V': -1.50, 'W': -3.40, 'Y': -2.30\n",
    "}\n",
    "\n",
    "amino_acids = ['A','C','D', 'E','F','G','H','I','K','L','M','N','P','Q','R','S','T','V','W','Y']"
   ]
  },
  {
   "cell_type": "code",
   "execution_count": null,
   "metadata": {
    "execution": {
     "iopub.execute_input": "2025-06-17T10:37:46.348928Z",
     "iopub.status.busy": "2025-06-17T10:37:46.348669Z",
     "iopub.status.idle": "2025-06-17T10:37:46.375221Z",
     "shell.execute_reply": "2025-06-17T10:37:46.373621Z",
     "shell.execute_reply.started": "2025-06-17T10:37:46.348909Z"
    },
    "trusted": true
   },
   "outputs": [],
   "source": [
    "secondary_structure = {\n",
    "\"Helix\": set(\"EALMQKRH\"),\n",
    "\"Strand\": set(\"VIYCWFT\"),\n",
    "\"Coil\": set(\"GNPSD\"),\n",
    "}"
   ]
  },
  {
   "cell_type": "code",
   "execution_count": null,
   "metadata": {
    "execution": {
     "iopub.execute_input": "2025-06-17T10:37:46.378111Z",
     "iopub.status.busy": "2025-06-17T10:37:46.377438Z",
     "iopub.status.idle": "2025-06-17T10:37:46.410070Z",
     "shell.execute_reply": "2025-06-17T10:37:46.408883Z",
     "shell.execute_reply.started": "2025-06-17T10:37:46.378085Z"
    },
    "trusted": true
   },
   "outputs": [],
   "source": [
    "#15\n",
    "def ctdd(sequence):\n",
    "    \"\"\"\n",
    "    Feature CTDD (Distribution Descriptor of Amino Acid Properties)\n",
    "\n",
    "    This function calculates the \"Distribution\" part of the CTD (Composition, \n",
    "    Transition, Distribution) descriptor, which describes how amino acids \n",
    "    belonging to specific physicochemical property classes are distributed \n",
    "    across a protein sequence.\n",
    "\n",
    "    For each amino acid class (e.g., based on secondary structure propensity),\n",
    "    it computes five percentile-based positional features:\n",
    "    - The relative positions (normalized by sequence length) of the first,\n",
    "      25%, 50%, 75%, and last occurrence of any amino acid in that class.\n",
    "\n",
    "    Parameters:\n",
    "    - sequence (str): Protein sequence using one-letter amino acid codes.\n",
    "\n",
    "    Returns:\n",
    "    - list: A feature vector of length 15 values\n",
    "    \"\"\"\n",
    "    ctdd_vector = []\n",
    "    sequence_length=len(sequence)\n",
    "    for class_name, amino_acids in secondary_structure.items():\n",
    "        positions = [i for i, aa in enumerate(sequence) if aa in amino_acids]\n",
    "        \n",
    "        if not positions:  # If no amino acid of this class is found\n",
    "            ctdd_vector.extend([0, 0, 0, 0, 0])\n",
    "            continue\n",
    "\n",
    "        # Calculate the five key positions (first, 25%, 50%, 75%, last)\n",
    "        first = positions[0] / sequence_length\n",
    "        p25 = positions[int(len(positions) * 0.25)] / sequence_length\n",
    "        p50 = positions[int(len(positions) * 0.50)] / sequence_length\n",
    "        p75 = positions[int(len(positions) * 0.75)] / sequence_length\n",
    "        last = positions[-1] / sequence_length\n",
    "\n",
    "        ctdd_vector.extend([first, p25, p50, p75, last])\n",
    "\n",
    "    return ctdd_vector"
   ]
  },
  {
   "cell_type": "code",
   "execution_count": null,
   "metadata": {
    "execution": {
     "iopub.execute_input": "2025-06-17T10:37:46.411626Z",
     "iopub.status.busy": "2025-06-17T10:37:46.411237Z",
     "iopub.status.idle": "2025-06-17T10:37:46.438940Z",
     "shell.execute_reply": "2025-06-17T10:37:46.437744Z",
     "shell.execute_reply.started": "2025-06-17T10:37:46.411594Z"
    },
    "trusted": true
   },
   "outputs": [],
   "source": [
    "#Grpups based on their dipoles and side-chain volumes\n",
    "amino_acid_groups = {\n",
    "'A': 1, 'G': 1, 'V': 1,  # Group 1\n",
    "'I': 2, 'L': 2, 'F': 2, 'P': 2,  # Group 2\n",
    "'Y': 3, 'M': 3, 'T': 3, 'S': 3,  # Group 3\n",
    "'H': 4, 'N': 4, 'Q': 4, 'W': 4,  # Group 4\n",
    "'R': 5, 'K': 5,  # Group 5\n",
    "'D': 6, 'E': 6,  # Group 6\n",
    "'C': 7   # Group 7\n",
    " }"
   ]
  },
  {
   "cell_type": "code",
   "execution_count": null,
   "metadata": {
    "execution": {
     "iopub.execute_input": "2025-06-17T10:37:46.441057Z",
     "iopub.status.busy": "2025-06-17T10:37:46.440449Z",
     "iopub.status.idle": "2025-06-17T10:37:46.465650Z",
     "shell.execute_reply": "2025-06-17T10:37:46.464109Z",
     "shell.execute_reply.started": "2025-06-17T10:37:46.441026Z"
    },
    "trusted": true
   },
   "outputs": [],
   "source": [
    "#343\n",
    "def ctriad(sequence):\n",
    "    \"\"\"\n",
    "    Feature #343: Conjoint Triad (CTriad)\n",
    "\n",
    "    This function computes the Conjoint Triad (CTriad) feature vector for a protein sequence.\n",
    "    It maps amino acids into 7 predefined groups based on dipole moments and side-chain volumes,\n",
    "    then extracts all overlapping triads (3-residue sliding windows) and counts the frequency\n",
    "    of each of the 343 possible group combinations (7 × 7 × 7 = 343).\n",
    "\n",
    "    Components:\n",
    "    - Reduces each amino acid to one of 7 groups.\n",
    "    - Forms triads (triplets) using a sliding window across the grouped sequence.\n",
    "    - Counts and normalizes the frequency of each triad pattern.\n",
    "    - Produces a 343-dimensional feature vector representing all triad combinations.\n",
    "\n",
    "    Parameters:\n",
    "    - sequence (str): Protein sequence using one-letter amino acid codes.\n",
    "\n",
    "    Returns:\n",
    "    - np.ndarray: Flattened 343-dimensional vector of normalized triad frequencies.\n",
    "    \"\"\"\n",
    "    # Convert sequence to reduced alphabet (group numbers)\n",
    "    reduced_seq = [amino_acid_groups[aa] - 1 for aa in sequence if aa in amino_acid_groups]\n",
    "    # Extract triads\n",
    "    triads = [tuple(reduced_seq[i:i+3]) for i in range(len(reduced_seq) - 2)]\n",
    "   \n",
    "    # Count occurrences of each triad\n",
    "    triad_counts = Counter(triads)\n",
    "\n",
    "    # Normalize counts\n",
    "    total_triads = len(triads)\n",
    "    triad_vector = np.zeros((7, 7, 7))  # 7^3 possible triads\n",
    "\n",
    "    for triad, count in triad_counts.items():\n",
    "        triad_vector[triad] = count / total_triads  # Normalize frequency\n",
    "\n",
    "    return triad_vector.flatten()"
   ]
  },
  {
   "cell_type": "code",
   "execution_count": null,
   "metadata": {
    "execution": {
     "iopub.execute_input": "2025-06-17T10:37:46.467721Z",
     "iopub.status.busy": "2025-06-17T10:37:46.467289Z",
     "iopub.status.idle": "2025-06-17T10:37:46.494830Z",
     "shell.execute_reply": "2025-06-17T10:37:46.493266Z",
     "shell.execute_reply.started": "2025-06-17T10:37:46.467686Z"
    },
    "trusted": true
   },
   "outputs": [],
   "source": [
    "#400\n",
    "def dde(sequence):\n",
    "    \"\"\"\n",
    "    Feature #400: DDE (Dipeptide Deviation from Expected Mean)\n",
    "\n",
    "    This function calculates the DDE (Dipeptide Deviation from Expected mean) descriptor\n",
    "    for a given protein sequence. It evaluates how the observed frequency of each possible\n",
    "    dipeptide deviates from its expected frequency under the assumption of amino acid independence.\n",
    "\n",
    "    Components:\n",
    "    - Dc: Observed frequency of each of the 400 dipeptides (20 × 20).\n",
    "    - Tm: Theoretical mean frequency of each dipeptide (product of individual amino acid frequencies).\n",
    "    - Tv: Theoretical variance assuming independent occurrence.\n",
    "    - DDE: Z-score-like value capturing standardized deviation (Dc - Tm) / sqrt(Tv)\n",
    "\n",
    "    This descriptor is useful in capturing **non-random pairwise amino acid associations** \n",
    "    and provides insight into sequence-specific dipeptide usage biases.\n",
    "\n",
    "    Parameters:\n",
    "    - sequence (str): Protein sequence using one-letter amino acid codes.\n",
    "\n",
    "    Returns:\n",
    "    - list: A 400-dimensional feature vector representing the DDE of all possible dipeptides.\n",
    "    \"\"\"\n",
    "    \n",
    "    amino_acids = 'ACDEFGHIKLMNPQRSTVWY'  \n",
    "    dipeptides = [''.join(pair) for pair in itertools.product(amino_acids, repeat=2)]\n",
    "    \n",
    "    aa_counts = Counter(sequence)\n",
    "    L = len(sequence)\n",
    "    aa_freq = {aa: aa_counts.get(aa, 0) / L for aa in amino_acids}\n",
    "\n",
    "    dipeptide_counts = Counter([sequence[i:i+2] for i in range(L-1)])\n",
    "    Dc = {dp: dipeptide_counts.get(dp, 0) / (L-1) for dp in dipeptides}\n",
    "\n",
    "    Tm = {dp: aa_freq[dp[0]] * aa_freq[dp[1]] for dp in dipeptides}\n",
    "    Tv = {dp: (Tm[dp] * (1 - Tm[dp])) / L if Tm[dp] > 0 else 0 for dp in dipeptides}\n",
    "\n",
    "    DDE = {dp: (Dc[dp] - Tm[dp]) / (Tv[dp] ** 0.5) if Tv[dp] > 0 else 0 for dp in dipeptides}\n",
    "\n",
    "    return list(DDE.values())"
   ]
  },
  {
   "cell_type": "code",
   "execution_count": null,
   "metadata": {
    "execution": {
     "iopub.execute_input": "2025-06-17T10:37:46.496713Z",
     "iopub.status.busy": "2025-06-17T10:37:46.496342Z",
     "iopub.status.idle": "2025-06-17T10:37:46.524062Z",
     "shell.execute_reply": "2025-06-17T10:37:46.522839Z",
     "shell.execute_reply.started": "2025-06-17T10:37:46.496683Z"
    },
    "trusted": true
   },
   "outputs": [],
   "source": [
    "#5\n",
    "hydrophobicity_Kyte_Doolittle  = {\n",
    "    'A': 1.8,  'C': 2.5,  'D': -3.5, 'E': -3.5, 'F': 2.8,\n",
    "    'G': -0.4, 'H': -3.2, 'I': 4.5,  'K': -3.9, 'L': 3.8,\n",
    "    'M': 1.9,  'N': -3.5, 'P': -1.6, 'Q': -3.5, 'R': -4.5,\n",
    "    'S': -0.8, 'T': -0.7, 'V': 4.2,  'W': -0.9, 'Y': -1.3\n",
    "}\n",
    "\n",
    "\n",
    "\n",
    "\n",
    "def geary_autocorrelation(sequence, max_lag=5, property_dict=hydrophobicity_Kyte_Doolittle):\n",
    "    \"\"\"\n",
    "    Feature #5: Geary Autocorrelation Descriptor\n",
    "\n",
    "    This function calculates the Geary autocorrelation descriptor for a given protein sequence,\n",
    "    which quantifies the spatial autocorrelation of a chosen physicochemical property across \n",
    "    different lags (distances) in the amino acid sequence.\n",
    "\n",
    "    Concept:\n",
    "    - For a selected amino acid property (e.g., hydrophobicity, polarity), this feature measures \n",
    "      how similar the property values are between amino acids separated by a lag `d`.\n",
    "    - It is based on the Geary's C metric (used in spatial statistics), which is sensitive to \n",
    "      local changes in the property values across the sequence.\n",
    "\n",
    "    Formula:\n",
    "    Geary(d) = (N - 1) * Σ[(Pᵢ - Pᵢ₊ₗ)²] / [2 * (N - d) * Σ(Pᵢ - mean(P))²]\n",
    "\n",
    "    Parameters:\n",
    "    - sequence (str): Protein sequence using one-letter amino acid codes.\n",
    "    - max_lag (int): Maximum distance (lag) to consider for autocorrelation (default = 5).\n",
    "    - property_dict (dict): Dictionary mapping amino acids to a numeric property scale,\n",
    "                            such as hydrophobicity, hydrophilicity, polarity, or molecular weight.\n",
    "\n",
    "    Returns:\n",
    "    - list: A list of `max_lag` Geary autocorrelation values for lags from 1 to `max_lag`.\n",
    "    \"\"\"\n",
    "    prop_values = np.array([property_dict.get(aa, 0) for aa in sequence])  # Default 0 if AA is unknown\n",
    "    N = len(prop_values)\n",
    "    mean_p = np.mean(prop_values)\n",
    "\n",
    "    geary_values = {}\n",
    "    \n",
    "    for d in range(1, max_lag + 1):\n",
    "        numerator = np.sum((prop_values[:-d] - prop_values[d:]) ** 2)\n",
    "        denominator = 2 * (N - d) * np.sum((prop_values - mean_p) ** 2)\n",
    "        geary_values[f'Geary_Lag_{d}'] = (N - 1) * numerator / denominator if denominator != 0 else 0\n",
    "\n",
    "    return list(geary_values.values())"
   ]
  },
  {
   "cell_type": "code",
   "execution_count": null,
   "metadata": {
    "execution": {
     "iopub.execute_input": "2025-06-17T10:37:46.594981Z",
     "iopub.status.busy": "2025-06-17T10:37:46.594670Z",
     "iopub.status.idle": "2025-06-17T10:37:48.003824Z",
     "shell.execute_reply": "2025-06-17T10:37:48.002492Z",
     "shell.execute_reply.started": "2025-06-17T10:37:46.594957Z"
    },
    "trusted": true
   },
   "outputs": [],
   "source": [
    "df_train=read_data_from_file(file_name_ncbi_datas)\n",
    "\n",
    "df_val=read_data_from_file(gasaid_test_file_name)\n",
    "\n",
    "df_test_gasaid=read_data_from_file(gasaid_test_file_name)\n",
    "df_test_ncbi=read_data_from_file(ncbi_test_file_name)\n",
    "\n",
    "df_test = pd.concat([df_test_gasaid, df_test_ncbi], ignore_index=True)"
   ]
  },
  {
   "cell_type": "code",
   "execution_count": null,
   "metadata": {
    "execution": {
     "iopub.execute_input": "2025-06-17T10:37:48.005581Z",
     "iopub.status.busy": "2025-06-17T10:37:48.004983Z",
     "iopub.status.idle": "2025-06-17T10:37:48.061469Z",
     "shell.execute_reply": "2025-06-17T10:37:48.060406Z",
     "shell.execute_reply.started": "2025-06-17T10:37:48.005548Z"
    },
    "trusted": true
   },
   "outputs": [],
   "source": [
    "df_Asian_flu=read_data_from_file(Asian_flu_test)\n",
    "df_hong_kong_flu=read_data_from_file(hong_kong_flu_test)\n",
    "df_pdmh1n1_flu=read_data_from_file(pdmh1n1_flu_test)\n",
    "df_covid= read_data_from_file(covid_test)\n",
    "df_cows=read_data_from_file(cows_test)"
   ]
  },
  {
   "cell_type": "code",
   "execution_count": null,
   "metadata": {
    "execution": {
     "iopub.execute_input": "2025-06-17T10:37:48.062439Z",
     "iopub.status.busy": "2025-06-17T10:37:48.062179Z",
     "iopub.status.idle": "2025-06-17T10:37:48.068367Z",
     "shell.execute_reply": "2025-06-17T10:37:48.066906Z",
     "shell.execute_reply.started": "2025-06-17T10:37:48.062420Z"
    },
    "trusted": true
   },
   "outputs": [],
   "source": [
    "print(len(df_train))\n",
    "print(len(df_val))"
   ]
  },
  {
   "cell_type": "code",
   "execution_count": null,
   "metadata": {
    "execution": {
     "iopub.execute_input": "2025-06-17T10:37:48.070322Z",
     "iopub.status.busy": "2025-06-17T10:37:48.069957Z",
     "iopub.status.idle": "2025-06-17T10:37:48.243736Z",
     "shell.execute_reply": "2025-06-17T10:37:48.242309Z",
     "shell.execute_reply.started": "2025-06-17T10:37:48.070264Z"
    },
    "trusted": true
   },
   "outputs": [],
   "source": [
    "df_train = remove_duplicates(df_train)\n",
    "df_val = remove_duplicates(df_val)\n",
    "\n",
    "print(len(df_train))\n",
    "print(len(df_val))"
   ]
  },
  {
   "cell_type": "code",
   "execution_count": null,
   "metadata": {
    "execution": {
     "iopub.execute_input": "2025-06-17T10:37:48.245203Z",
     "iopub.status.busy": "2025-06-17T10:37:48.244749Z",
     "iopub.status.idle": "2025-06-17T10:37:48.413483Z",
     "shell.execute_reply": "2025-06-17T10:37:48.412070Z",
     "shell.execute_reply.started": "2025-06-17T10:37:48.245171Z"
    },
    "trusted": true
   },
   "outputs": [],
   "source": [
    "df_train=remove_common_sequences(df_train,df_test)\n",
    "df_train=remove_common_sequences(df_train,df_val)\n",
    "df_train=remove_common_sequences(df_train,df_Asian_flu)\n",
    "df_train=remove_common_sequences(df_train,df_hong_kong_flu)\n",
    "df_train=remove_common_sequences(df_train,df_covid)\n",
    "df_train=remove_common_sequences(df_train,df_cows)\n",
    "\n",
    "\n",
    "\n",
    "print(len(df_train))\n",
    "print(len(df_val))"
   ]
  },
  {
   "cell_type": "code",
   "execution_count": null,
   "metadata": {
    "execution": {
     "iopub.execute_input": "2025-06-17T10:37:48.414640Z",
     "iopub.status.busy": "2025-06-17T10:37:48.414270Z",
     "iopub.status.idle": "2025-06-17T10:37:48.419152Z",
     "shell.execute_reply": "2025-06-17T10:37:48.418073Z",
     "shell.execute_reply.started": "2025-06-17T10:37:48.414608Z"
    },
    "trusted": true
   },
   "outputs": [],
   "source": [
    "# ---- Define sizes of each feature set ----\n",
    "vec_size = 30 + 15 + 343 + 400 + 5   "
   ]
  },
  {
   "cell_type": "code",
   "execution_count": null,
   "metadata": {
    "execution": {
     "iopub.execute_input": "2025-06-17T10:37:48.421028Z",
     "iopub.status.busy": "2025-06-17T10:37:48.420646Z",
     "iopub.status.idle": "2025-06-17T10:37:48.444516Z",
     "shell.execute_reply": "2025-06-17T10:37:48.442707Z",
     "shell.execute_reply.started": "2025-06-17T10:37:48.420999Z"
    },
    "trusted": true
   },
   "outputs": [],
   "source": [
    "def ExtractFeatures(S):\n",
    "    V = np.zeros((len(S), vec_size))\n",
    "    \n",
    "    for i, seq in enumerate(tqdm(S, desc=\"Processing sequences\")):\n",
    "        offset = 0\n",
    "\n",
    "        # APAAC: 30 features\n",
    "        V[i, offset:offset + 30] = apaac(seq)\n",
    "        offset += 30\n",
    "\n",
    "        # CTDD: 15 features\n",
    "        V[i, offset:offset + 15] = ctdd(seq)\n",
    "        offset += 15\n",
    "\n",
    "        # CTriad: 343 features\n",
    "        V[i, offset:offset + 343] = ctriad(seq)\n",
    "        offset += 343\n",
    "\n",
    "        # DDE: 400 features\n",
    "        V[i, offset:offset + 400] = dde(seq)\n",
    "        offset += 400\n",
    "\n",
    "        # Geary Autocorrelation: 5 features\n",
    "        V[i, offset:offset + 5] = geary_autocorrelation(seq)\n",
    "        offset += 5\n",
    "\n",
    "    return V"
   ]
  },
  {
   "cell_type": "code",
   "execution_count": null,
   "metadata": {
    "execution": {
     "iopub.execute_input": "2025-06-17T10:37:48.446017Z",
     "iopub.status.busy": "2025-06-17T10:37:48.445717Z",
     "iopub.status.idle": "2025-06-17T10:37:48.476579Z",
     "shell.execute_reply": "2025-06-17T10:37:48.475550Z",
     "shell.execute_reply.started": "2025-06-17T10:37:48.445993Z"
    },
    "trusted": true
   },
   "outputs": [],
   "source": [
    "def getXY(df):\n",
    "    X = ExtractFeatures(df['Sequence'])\n",
    "    print(f\"X.shape is {X.shape}\")\n",
    "    Y = np.array((df[\"Class\"].str.lower() != \"human\").astype(int))\n",
    "    print(f\"y_train.size is {Y.size}\")\n",
    "    return X,Y"
   ]
  },
  {
   "cell_type": "code",
   "execution_count": null,
   "metadata": {
    "execution": {
     "iopub.execute_input": "2025-06-17T10:37:48.478506Z",
     "iopub.status.busy": "2025-06-17T10:37:48.478017Z",
     "iopub.status.idle": "2025-06-17T10:43:22.451001Z",
     "shell.execute_reply": "2025-06-17T10:43:22.450066Z",
     "shell.execute_reply.started": "2025-06-17T10:37:48.478476Z"
    },
    "trusted": true
   },
   "outputs": [],
   "source": [
    "X_train,y_train = getXY(df_train)"
   ]
  },
  {
   "cell_type": "code",
   "execution_count": null,
   "metadata": {
    "execution": {
     "iopub.execute_input": "2025-06-17T10:43:22.452391Z",
     "iopub.status.busy": "2025-06-17T10:43:22.451995Z",
     "iopub.status.idle": "2025-06-17T10:43:47.664033Z",
     "shell.execute_reply": "2025-06-17T10:43:47.662892Z",
     "shell.execute_reply.started": "2025-06-17T10:43:22.452352Z"
    },
    "trusted": true
   },
   "outputs": [],
   "source": [
    "X_val,y_val = getXY(df_val)"
   ]
  },
  {
   "cell_type": "code",
   "execution_count": null,
   "metadata": {
    "execution": {
     "iopub.execute_input": "2025-06-17T10:43:47.677265Z",
     "iopub.status.busy": "2025-06-17T10:43:47.676974Z",
     "iopub.status.idle": "2025-06-17T10:44:14.882198Z",
     "shell.execute_reply": "2025-06-17T10:44:14.881264Z",
     "shell.execute_reply.started": "2025-06-17T10:43:47.677244Z"
    },
    "trusted": true
   },
   "outputs": [],
   "source": [
    "plot_tsne(X_val,y_val)"
   ]
  },
  {
   "cell_type": "code",
   "execution_count": null,
   "metadata": {
    "execution": {
     "iopub.execute_input": "2025-06-17T10:44:14.925513Z",
     "iopub.status.busy": "2025-06-17T10:44:14.925025Z",
     "iopub.status.idle": "2025-06-17T10:47:57.660851Z",
     "shell.execute_reply": "2025-06-17T10:47:57.660028Z",
     "shell.execute_reply.started": "2025-06-17T10:44:14.925395Z"
    },
    "trusted": true
   },
   "outputs": [],
   "source": [
    "rf = RandomForestClassifier(n_estimators=100,random_state=42)\n",
    "rf.fit(X_train, y_train)"
   ]
  },
  {
   "cell_type": "code",
   "execution_count": null,
   "metadata": {
    "execution": {
     "iopub.execute_input": "2025-06-17T10:47:57.662236Z",
     "iopub.status.busy": "2025-06-17T10:47:57.661928Z",
     "iopub.status.idle": "2025-06-17T10:47:58.065823Z",
     "shell.execute_reply": "2025-06-17T10:47:58.064856Z",
     "shell.execute_reply.started": "2025-06-17T10:47:57.662210Z"
    },
    "trusted": true
   },
   "outputs": [],
   "source": [
    "preds = RandomForest(X_val,y_val, rf)\n",
    "con_matrix(y_val,preds)"
   ]
  },
  {
   "cell_type": "code",
   "execution_count": null,
   "metadata": {
    "execution": {
     "iopub.execute_input": "2025-06-17T10:47:58.067133Z",
     "iopub.status.busy": "2025-06-17T10:47:58.066831Z",
     "iopub.status.idle": "2025-06-17T10:47:58.217629Z",
     "shell.execute_reply": "2025-06-17T10:47:58.216407Z",
     "shell.execute_reply.started": "2025-06-17T10:47:58.067112Z"
    },
    "trusted": true
   },
   "outputs": [],
   "source": [
    "joblib.dump(rf, 'RF_ML_Features.pkl')"
   ]
  },
  {
   "cell_type": "code",
   "execution_count": null,
   "metadata": {
    "execution": {
     "iopub.execute_input": "2025-06-17T10:47:58.219510Z",
     "iopub.status.busy": "2025-06-17T10:47:58.219072Z",
     "iopub.status.idle": "2025-06-17T10:49:45.982579Z",
     "shell.execute_reply": "2025-06-17T10:49:45.981954Z",
     "shell.execute_reply.started": "2025-06-17T10:47:58.219477Z"
    },
    "trusted": true
   },
   "outputs": [],
   "source": [
    "lr = LogisticRegression(max_iter=1000, random_state=42)\n",
    "lr.fit(X_train, y_train)"
   ]
  },
  {
   "cell_type": "code",
   "execution_count": null,
   "metadata": {
    "execution": {
     "iopub.execute_input": "2025-06-17T10:49:45.983459Z",
     "iopub.status.busy": "2025-06-17T10:49:45.983167Z",
     "iopub.status.idle": "2025-06-17T10:49:46.798757Z",
     "shell.execute_reply": "2025-06-17T10:49:46.797604Z",
     "shell.execute_reply.started": "2025-06-17T10:49:45.983439Z"
    },
    "trusted": true
   },
   "outputs": [],
   "source": [
    "preds = LogisticReg(X_val,y_val, lr)\n",
    "con_matrix(y_val,preds)"
   ]
  },
  {
   "cell_type": "code",
   "execution_count": null,
   "metadata": {
    "execution": {
     "iopub.execute_input": "2025-06-17T10:49:46.800177Z",
     "iopub.status.busy": "2025-06-17T10:49:46.799775Z",
     "iopub.status.idle": "2025-06-17T10:49:46.809129Z",
     "shell.execute_reply": "2025-06-17T10:49:46.807817Z",
     "shell.execute_reply.started": "2025-06-17T10:49:46.800145Z"
    },
    "trusted": true
   },
   "outputs": [],
   "source": [
    "# Save\n",
    "joblib.dump(lr, 'LR_ML_Features.pkl')"
   ]
  },
  {
   "cell_type": "code",
   "execution_count": null,
   "metadata": {
    "execution": {
     "iopub.execute_input": "2025-06-17T12:14:24.987508Z",
     "iopub.status.busy": "2025-06-17T12:14:24.987039Z",
     "iopub.status.idle": "2025-06-17T13:53:37.836554Z",
     "shell.execute_reply": "2025-06-17T13:53:37.833599Z",
     "shell.execute_reply.started": "2025-06-17T12:14:24.987476Z"
    },
    "trusted": true
   },
   "outputs": [],
   "source": [
    "svm = SVC(kernel='rbf',random_state=42,probability=True)\n",
    "svm.fit(X_train, y_train)"
   ]
  },
  {
   "cell_type": "code",
   "execution_count": null,
   "metadata": {
    "execution": {
     "iopub.execute_input": "2025-06-17T13:53:37.841182Z",
     "iopub.status.busy": "2025-06-17T13:53:37.840737Z",
     "iopub.status.idle": "2025-06-17T13:54:27.763741Z",
     "shell.execute_reply": "2025-06-17T13:54:27.762321Z",
     "shell.execute_reply.started": "2025-06-17T13:53:37.841151Z"
    },
    "trusted": true
   },
   "outputs": [],
   "source": [
    "preds = SVM(X_val,y_val, svm)\n",
    "con_matrix(y_val,preds)"
   ]
  },
  {
   "cell_type": "code",
   "execution_count": null,
   "metadata": {
    "execution": {
     "iopub.execute_input": "2025-06-17T14:02:55.644639Z",
     "iopub.status.busy": "2025-06-17T14:02:55.643113Z",
     "iopub.status.idle": "2025-06-17T14:02:55.846730Z",
     "shell.execute_reply": "2025-06-17T14:02:55.845343Z",
     "shell.execute_reply.started": "2025-06-17T14:02:55.644602Z"
    },
    "trusted": true
   },
   "outputs": [],
   "source": [
    "joblib.dump(svm, 'SVM_ML_Features.pkl')"
   ]
  }
 ],
 "metadata": {
  "kaggle": {
   "accelerator": "none",
   "dataSources": [
    {
     "datasetId": 6981441,
     "sourceId": 12123416,
     "sourceType": "datasetVersion"
    },
    {
     "datasetId": 7663838,
     "sourceId": 12168419,
     "sourceType": "datasetVersion"
    }
   ],
   "dockerImageVersionId": 31040,
   "isGpuEnabled": false,
   "isInternetEnabled": true,
   "language": "python",
   "sourceType": "notebook"
  },
  "kernelspec": {
   "display_name": "Python 3",
   "language": "python",
   "name": "python3"
  },
  "language_info": {
   "codemirror_mode": {
    "name": "ipython",
    "version": 3
   },
   "file_extension": ".py",
   "mimetype": "text/x-python",
   "name": "python",
   "nbconvert_exporter": "python",
   "pygments_lexer": "ipython3",
   "version": "3.11.11"
  }
 },
 "nbformat": 4,
 "nbformat_minor": 4
}
