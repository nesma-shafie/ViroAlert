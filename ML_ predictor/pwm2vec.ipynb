{
 "cells": [
  {
   "cell_type": "code",
   "execution_count": null,
   "metadata": {
    "_cell_guid": "b1076dfc-b9ad-4769-8c92-a6c4dae69d19",
    "_uuid": "8f2839f25d086af736a60e9eeb907d3b93b6e0e5",
    "execution": {
     "iopub.execute_input": "2025-06-17T14:05:31.756938Z",
     "iopub.status.busy": "2025-06-17T14:05:31.756511Z",
     "iopub.status.idle": "2025-06-17T14:05:34.827821Z",
     "shell.execute_reply": "2025-06-17T14:05:34.826801Z",
     "shell.execute_reply.started": "2025-06-17T14:05:31.756905Z"
    },
    "trusted": true
   },
   "outputs": [],
   "source": [
    "import numpy as np\n",
    "import pandas as pd \n",
    "from tqdm import tqdm\n",
    "from collections import Counter\n",
    "from itertools import product\n",
    "import os\n",
    "from sklearn.model_selection import train_test_split\n",
    "from sklearn.ensemble import RandomForestClassifier\n",
    "from sklearn.svm import SVC\n",
    "from sklearn.metrics import classification_report, accuracy_score\n",
    "import gc\n",
    "import joblib\n",
    "from utils import *\n",
    "\n",
    "from sklearn.metrics import confusion_matrix, ConfusionMatrixDisplay\n",
    "import matplotlib.pyplot as plt\n",
    "from sklearn.linear_model import LogisticRegression\n"
   ]
  },
  {
   "cell_type": "code",
   "execution_count": null,
   "metadata": {
    "execution": {
     "iopub.execute_input": "2025-06-17T14:05:40.651184Z",
     "iopub.status.busy": "2025-06-17T14:05:40.650785Z",
     "iopub.status.idle": "2025-06-17T14:05:42.685013Z",
     "shell.execute_reply": "2025-06-17T14:05:42.683627Z",
     "shell.execute_reply.started": "2025-06-17T14:05:40.651155Z"
    },
    "trusted": true
   },
   "outputs": [],
   "source": [
    "df_train=read_data_from_file(file_name_ncbi_datas)\n",
    "\n",
    "df_val=read_data_from_file(gasaid_test_file_name)\n",
    "\n",
    "df_test_gasaid=read_data_from_file(gasaid_test_file_name)\n",
    "df_test_ncbi=read_data_from_file(ncbi_test_file_name)\n",
    "\n",
    "df_test = pd.concat([df_test_gasaid, df_test_ncbi], ignore_index=True)"
   ]
  },
  {
   "cell_type": "code",
   "execution_count": null,
   "metadata": {
    "execution": {
     "iopub.execute_input": "2025-06-17T14:05:44.681160Z",
     "iopub.status.busy": "2025-06-17T14:05:44.680754Z",
     "iopub.status.idle": "2025-06-17T14:05:44.772352Z",
     "shell.execute_reply": "2025-06-17T14:05:44.771116Z",
     "shell.execute_reply.started": "2025-06-17T14:05:44.681126Z"
    },
    "trusted": true
   },
   "outputs": [],
   "source": [
    "df_Asian_flu=read_data_from_file(Asian_flu_test)\n",
    "df_hong_kong_flu=read_data_from_file(hong_kong_flu_test)\n",
    "df_pdmh1n1_flu=read_data_from_file(pdmh1n1_flu_test)\n",
    "df_covid= read_data_from_file(covid_test)\n",
    "df_cows=read_data_from_file(cows_test)"
   ]
  },
  {
   "cell_type": "code",
   "execution_count": null,
   "metadata": {
    "execution": {
     "iopub.execute_input": "2025-06-17T14:05:46.174895Z",
     "iopub.status.busy": "2025-06-17T14:05:46.174497Z",
     "iopub.status.idle": "2025-06-17T14:05:46.181761Z",
     "shell.execute_reply": "2025-06-17T14:05:46.179759Z",
     "shell.execute_reply.started": "2025-06-17T14:05:46.174870Z"
    },
    "trusted": true
   },
   "outputs": [],
   "source": [
    "print(len(df_train))\n",
    "print(len(df_test))"
   ]
  },
  {
   "cell_type": "code",
   "execution_count": null,
   "metadata": {
    "execution": {
     "iopub.execute_input": "2025-06-17T14:05:47.570573Z",
     "iopub.status.busy": "2025-06-17T14:05:47.570209Z",
     "iopub.status.idle": "2025-06-17T14:05:47.727758Z",
     "shell.execute_reply": "2025-06-17T14:05:47.726765Z",
     "shell.execute_reply.started": "2025-06-17T14:05:47.570516Z"
    },
    "trusted": true
   },
   "outputs": [],
   "source": [
    "df_train = remove_duplicates(df_train)\n",
    "df_val = remove_duplicates(df_val)\n",
    "\n",
    "print(len(df_train))\n",
    "print(len(df_val))"
   ]
  },
  {
   "cell_type": "code",
   "execution_count": null,
   "metadata": {
    "execution": {
     "iopub.execute_input": "2025-06-17T14:05:49.137516Z",
     "iopub.status.busy": "2025-06-17T14:05:49.137205Z",
     "iopub.status.idle": "2025-06-17T14:05:49.281489Z",
     "shell.execute_reply": "2025-06-17T14:05:49.280267Z",
     "shell.execute_reply.started": "2025-06-17T14:05:49.137491Z"
    },
    "trusted": true
   },
   "outputs": [],
   "source": [
    "df_train=remove_common_sequences(df_train,df_test)\n",
    "df_train=remove_common_sequences(df_train,df_val)\n",
    "df_train=remove_common_sequences(df_train,df_Asian_flu)\n",
    "df_train=remove_common_sequences(df_train,df_hong_kong_flu)\n",
    "df_train=remove_common_sequences(df_train,df_covid)\n",
    "df_train=remove_common_sequences(df_train,df_cows)\n",
    "\n",
    "\n",
    "\n",
    "print(len(df_train))\n",
    "print(len(df_val))"
   ]
  },
  {
   "cell_type": "code",
   "execution_count": null,
   "metadata": {
    "execution": {
     "iopub.execute_input": "2025-06-17T14:05:57.279711Z",
     "iopub.status.busy": "2025-06-17T14:05:57.279295Z",
     "iopub.status.idle": "2025-06-17T14:05:57.287175Z",
     "shell.execute_reply": "2025-06-17T14:05:57.286114Z",
     "shell.execute_reply.started": "2025-06-17T14:05:57.279681Z"
    },
    "trusted": true
   },
   "outputs": [],
   "source": [
    "# All the m-mers (not k-mers!) combinations\n",
    "combos = get_all_combinations(alphabet, m)\n",
    "\n",
    "pfm = np.zeros((alphabet_size, m))\n",
    "\n",
    "v = np.zeros(len(combos))"
   ]
  },
  {
   "cell_type": "code",
   "execution_count": null,
   "metadata": {
    "execution": {
     "iopub.execute_input": "2025-06-17T14:05:58.928570Z",
     "iopub.status.busy": "2025-06-17T14:05:58.928219Z",
     "iopub.status.idle": "2025-06-17T14:05:58.934899Z",
     "shell.execute_reply": "2025-06-17T14:05:58.933790Z",
     "shell.execute_reply.started": "2025-06-17T14:05:58.928517Z"
    },
    "trusted": true
   },
   "outputs": [],
   "source": [
    "def Pwm2Vec(S, alphabet, k, m):\n",
    "    V = np.zeros((len(S), (alphabet_size*m)), dtype=np.float32)\n",
    "    for j, seq  in enumerate(tqdm(S, desc=\"Processing sequences\")):\n",
    "        A = comp_minimizers(seq, k, m)  # List of minimizers (m-mers)\n",
    "\n",
    "        pfm.fill(0)\n",
    "        for i in range(m):\n",
    "            # the chars in pos i in A\n",
    "            col = [a[i] for a in A]\n",
    "            # PFM[c][i] = count of character c at position i across all m-mers\n",
    "            pfm[:, i] = get_alphabet_count(col, alphabet)\n",
    "        \n",
    "        ppm = comp_ppm(pfm)\n",
    "        \n",
    "        V[j, :] = ppm.flatten()  # Assign the computed vector directly to row j\n",
    "    return V"
   ]
  },
  {
   "cell_type": "code",
   "execution_count": null,
   "metadata": {
    "execution": {
     "iopub.execute_input": "2025-06-17T14:06:01.969996Z",
     "iopub.status.busy": "2025-06-17T14:06:01.969707Z",
     "iopub.status.idle": "2025-06-17T14:07:34.653874Z",
     "shell.execute_reply": "2025-06-17T14:07:34.653097Z",
     "shell.execute_reply.started": "2025-06-17T14:06:01.969975Z"
    },
    "trusted": true
   },
   "outputs": [],
   "source": [
    "X_train = Pwm2Vec(df_train['Sequence'], alphabet, k, m)\n",
    "X_train.shape"
   ]
  },
  {
   "cell_type": "code",
   "execution_count": null,
   "metadata": {
    "execution": {
     "iopub.execute_input": "2025-06-17T14:07:34.655812Z",
     "iopub.status.busy": "2025-06-17T14:07:34.655492Z",
     "iopub.status.idle": "2025-06-17T14:07:34.683282Z",
     "shell.execute_reply": "2025-06-17T14:07:34.682220Z",
     "shell.execute_reply.started": "2025-06-17T14:07:34.655789Z"
    },
    "trusted": true
   },
   "outputs": [],
   "source": [
    "y_train = np.array((df_train[\"Class\"].str.lower() != \"human\").astype(int))\n",
    "y_train.size"
   ]
  },
  {
   "cell_type": "code",
   "execution_count": null,
   "metadata": {
    "execution": {
     "iopub.execute_input": "2025-06-17T14:07:34.685004Z",
     "iopub.status.busy": "2025-06-17T14:07:34.684689Z",
     "iopub.status.idle": "2025-06-17T14:07:41.637469Z",
     "shell.execute_reply": "2025-06-17T14:07:41.636565Z",
     "shell.execute_reply.started": "2025-06-17T14:07:34.684970Z"
    },
    "trusted": true
   },
   "outputs": [],
   "source": [
    "X_val = Pwm2Vec(df_val['Sequence'], alphabet, k, m)\n",
    "y_val = np.array((df_val[\"Class\"].str.lower() != \"human\").astype(int))"
   ]
  },
  {
   "cell_type": "code",
   "execution_count": null,
   "metadata": {
    "execution": {
     "iopub.execute_input": "2025-06-17T09:18:10.897836Z",
     "iopub.status.busy": "2025-06-17T09:18:10.897516Z",
     "iopub.status.idle": "2025-06-17T09:18:37.577265Z",
     "shell.execute_reply": "2025-06-17T09:18:37.576409Z",
     "shell.execute_reply.started": "2025-06-17T09:18:10.897815Z"
    },
    "trusted": true
   },
   "outputs": [],
   "source": [
    "rf = RandomForestClassifier(n_estimators=100, random_state=42)\n",
    "rf.fit(X_train, y_train)"
   ]
  },
  {
   "cell_type": "code",
   "execution_count": null,
   "metadata": {
    "execution": {
     "iopub.execute_input": "2025-06-17T09:18:37.578482Z",
     "iopub.status.busy": "2025-06-17T09:18:37.578165Z",
     "iopub.status.idle": "2025-06-17T09:18:38.073006Z",
     "shell.execute_reply": "2025-06-17T09:18:38.072159Z",
     "shell.execute_reply.started": "2025-06-17T09:18:37.578454Z"
    },
    "trusted": true
   },
   "outputs": [],
   "source": [
    "preds = RandomForest(X_val,y_val, rf)\n",
    "con_matrix(y_val,preds)"
   ]
  },
  {
   "cell_type": "code",
   "execution_count": null,
   "metadata": {
    "execution": {
     "iopub.execute_input": "2025-06-17T09:18:38.074077Z",
     "iopub.status.busy": "2025-06-17T09:18:38.073870Z",
     "iopub.status.idle": "2025-06-17T09:18:38.174508Z",
     "shell.execute_reply": "2025-06-17T09:18:38.173641Z",
     "shell.execute_reply.started": "2025-06-17T09:18:38.074062Z"
    },
    "trusted": true
   },
   "outputs": [],
   "source": [
    "# Save\n",
    "joblib.dump(rf, 'RF_PWM2Vec.pkl')"
   ]
  },
  {
   "cell_type": "code",
   "execution_count": null,
   "metadata": {
    "execution": {
     "iopub.execute_input": "2025-06-17T09:18:38.175652Z",
     "iopub.status.busy": "2025-06-17T09:18:38.175346Z",
     "iopub.status.idle": "2025-06-17T09:18:44.107728Z",
     "shell.execute_reply": "2025-06-17T09:18:44.106919Z",
     "shell.execute_reply.started": "2025-06-17T09:18:38.175633Z"
    },
    "trusted": true
   },
   "outputs": [],
   "source": [
    "lr = LogisticRegression(max_iter=1000,C=10, random_state=42)\n",
    "lr.fit(X_train, y_train)"
   ]
  },
  {
   "cell_type": "code",
   "execution_count": null,
   "metadata": {
    "execution": {
     "iopub.execute_input": "2025-06-17T09:18:44.108810Z",
     "iopub.status.busy": "2025-06-17T09:18:44.108488Z",
     "iopub.status.idle": "2025-06-17T09:18:44.316323Z",
     "shell.execute_reply": "2025-06-17T09:18:44.315496Z",
     "shell.execute_reply.started": "2025-06-17T09:18:44.108782Z"
    },
    "trusted": true
   },
   "outputs": [],
   "source": [
    "preds = LogisticReg(X_val,y_val, lr)\n",
    "con_matrix(y_val,preds)"
   ]
  },
  {
   "cell_type": "code",
   "execution_count": null,
   "metadata": {
    "execution": {
     "iopub.execute_input": "2025-06-17T09:18:44.317273Z",
     "iopub.status.busy": "2025-06-17T09:18:44.317065Z",
     "iopub.status.idle": "2025-06-17T09:18:44.324226Z",
     "shell.execute_reply": "2025-06-17T09:18:44.323400Z",
     "shell.execute_reply.started": "2025-06-17T09:18:44.317257Z"
    },
    "trusted": true
   },
   "outputs": [],
   "source": [
    "# Save\n",
    "joblib.dump(lr, 'LR_PWM2Vec.pkl')"
   ]
  },
  {
   "cell_type": "code",
   "execution_count": null,
   "metadata": {
    "execution": {
     "iopub.execute_input": "2025-06-17T14:45:54.553745Z",
     "iopub.status.busy": "2025-06-17T14:45:54.553231Z",
     "iopub.status.idle": "2025-06-17T15:07:42.324896Z",
     "shell.execute_reply": "2025-06-17T15:07:42.324038Z",
     "shell.execute_reply.started": "2025-06-17T14:45:54.553713Z"
    },
    "trusted": true
   },
   "outputs": [],
   "source": [
    "svm = SVC(kernel='rbf',C=5,random_state=42,probability=True)\n",
    "svm.fit(X_train, y_train)"
   ]
  },
  {
   "cell_type": "code",
   "execution_count": null,
   "metadata": {
    "execution": {
     "iopub.execute_input": "2025-06-17T15:07:42.326316Z",
     "iopub.status.busy": "2025-06-17T15:07:42.326058Z",
     "iopub.status.idle": "2025-06-17T15:07:51.268900Z",
     "shell.execute_reply": "2025-06-17T15:07:51.268059Z",
     "shell.execute_reply.started": "2025-06-17T15:07:42.326296Z"
    },
    "trusted": true
   },
   "outputs": [],
   "source": [
    "preds = SVM(X_val,y_val, svm)\n",
    "con_matrix(y_val,preds)"
   ]
  },
  {
   "cell_type": "code",
   "execution_count": null,
   "metadata": {
    "execution": {
     "iopub.execute_input": "2025-06-17T15:09:47.239264Z",
     "iopub.status.busy": "2025-06-17T15:09:47.238387Z",
     "iopub.status.idle": "2025-06-17T15:09:47.263500Z",
     "shell.execute_reply": "2025-06-17T15:09:47.262744Z",
     "shell.execute_reply.started": "2025-06-17T15:09:47.239231Z"
    },
    "trusted": true
   },
   "outputs": [],
   "source": [
    "# Save\n",
    "joblib.dump(svm, 'SVM_PWM2Vec.pkl')"
   ]
  }
 ],
 "metadata": {
  "kaggle": {
   "accelerator": "none",
   "dataSources": [
    {
     "datasetId": 6981441,
     "sourceId": 12123416,
     "sourceType": "datasetVersion"
    },
    {
     "datasetId": 7663838,
     "sourceId": 12168419,
     "sourceType": "datasetVersion"
    }
   ],
   "dockerImageVersionId": 31040,
   "isGpuEnabled": false,
   "isInternetEnabled": true,
   "language": "python",
   "sourceType": "notebook"
  },
  "kernelspec": {
   "display_name": "Python 3",
   "language": "python",
   "name": "python3"
  },
  "language_info": {
   "codemirror_mode": {
    "name": "ipython",
    "version": 3
   },
   "file_extension": ".py",
   "mimetype": "text/x-python",
   "name": "python",
   "nbconvert_exporter": "python",
   "pygments_lexer": "ipython3",
   "version": "3.11.11"
  }
 },
 "nbformat": 4,
 "nbformat_minor": 4
}
