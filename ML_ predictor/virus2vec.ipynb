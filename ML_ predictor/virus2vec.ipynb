{
 "cells": [
  {
   "cell_type": "code",
   "execution_count": null,
   "metadata": {
    "_cell_guid": "b1076dfc-b9ad-4769-8c92-a6c4dae69d19",
    "_uuid": "8f2839f25d086af736a60e9eeb907d3b93b6e0e5",
    "execution": {
     "iopub.execute_input": "2025-06-17T09:16:05.212955Z",
     "iopub.status.busy": "2025-06-17T09:16:05.212472Z",
     "iopub.status.idle": "2025-06-17T09:16:05.224984Z",
     "shell.execute_reply": "2025-06-17T09:16:05.223851Z",
     "shell.execute_reply.started": "2025-06-17T09:16:05.212923Z"
    },
    "trusted": true
   },
   "outputs": [],
   "source": [
    "import numpy as np\n",
    "import pandas as pd \n",
    "from tqdm import tqdm\n",
    "from collections import Counter\n",
    "from itertools import product\n",
    "import os\n",
    "from sklearn.model_selection import train_test_split\n",
    "from sklearn.ensemble import RandomForestClassifier\n",
    "from sklearn.svm import SVC\n",
    "from sklearn.metrics import classification_report, accuracy_score\n",
    "import gc\n",
    "import joblib\n",
    "from sklearn.metrics import confusion_matrix, ConfusionMatrixDisplay\n",
    "import matplotlib.pyplot as plt\n",
    "from sklearn.linear_model import LogisticRegression\n",
    "from sklearn.manifold import TSNE\n",
    "from sklearn.decomposition import PCA\n",
    "from sklearn.metrics import roc_curve, auc\n",
    "\n",
    "from utils import *\n"
   ]
  },
  {
   "cell_type": "code",
   "execution_count": null,
   "metadata": {
    "execution": {
     "iopub.execute_input": "2025-06-17T09:16:05.307005Z",
     "iopub.status.busy": "2025-06-17T09:16:05.306615Z",
     "iopub.status.idle": "2025-06-17T09:16:06.905529Z",
     "shell.execute_reply": "2025-06-17T09:16:06.904721Z",
     "shell.execute_reply.started": "2025-06-17T09:16:05.306978Z"
    },
    "trusted": true
   },
   "outputs": [],
   "source": [
    "df_train=read_data_from_file(file_name_ncbi_datas)\n",
    "\n",
    "df_val=read_data_from_file(gasaid_test_file_name)\n",
    "\n",
    "df_test_gasaid=read_data_from_file(gasaid_test_file_name)\n",
    "df_test_ncbi=read_data_from_file(ncbi_test_file_name)\n",
    "\n",
    "df_test = pd.concat([df_test_gasaid, df_test_ncbi], ignore_index=True)"
   ]
  },
  {
   "cell_type": "code",
   "execution_count": null,
   "metadata": {
    "execution": {
     "iopub.execute_input": "2025-06-17T09:16:06.908119Z",
     "iopub.status.busy": "2025-06-17T09:16:06.907755Z",
     "iopub.status.idle": "2025-06-17T09:16:06.969945Z",
     "shell.execute_reply": "2025-06-17T09:16:06.969015Z",
     "shell.execute_reply.started": "2025-06-17T09:16:06.908089Z"
    },
    "trusted": true
   },
   "outputs": [],
   "source": [
    "df_Asian_flu=read_data_from_file(Asian_flu_test)\n",
    "df_hong_kong_flu=read_data_from_file(hong_kong_flu_test)\n",
    "df_pdmh1n1_flu=read_data_from_file(pdmh1n1_flu_test)\n",
    "df_covid= read_data_from_file(covid_test)\n",
    "df_cows=read_data_from_file(cows_test)"
   ]
  },
  {
   "cell_type": "code",
   "execution_count": null,
   "metadata": {
    "execution": {
     "iopub.execute_input": "2025-06-17T09:16:06.971450Z",
     "iopub.status.busy": "2025-06-17T09:16:06.971106Z",
     "iopub.status.idle": "2025-06-17T09:16:06.976598Z",
     "shell.execute_reply": "2025-06-17T09:16:06.975683Z",
     "shell.execute_reply.started": "2025-06-17T09:16:06.971427Z"
    },
    "trusted": true
   },
   "outputs": [],
   "source": [
    "print(len(df_train))\n",
    "print(len(df_val))"
   ]
  },
  {
   "cell_type": "code",
   "execution_count": null,
   "metadata": {
    "execution": {
     "iopub.execute_input": "2025-06-17T09:16:06.977970Z",
     "iopub.status.busy": "2025-06-17T09:16:06.977634Z",
     "iopub.status.idle": "2025-06-17T09:16:07.138336Z",
     "shell.execute_reply": "2025-06-17T09:16:07.137408Z",
     "shell.execute_reply.started": "2025-06-17T09:16:06.977944Z"
    },
    "trusted": true
   },
   "outputs": [],
   "source": [
    "df_train = remove_duplicates(df_train)\n",
    "df_val = remove_duplicates(df_val)\n",
    "\n",
    "print(len(df_train))\n",
    "print(len(df_val))"
   ]
  },
  {
   "cell_type": "code",
   "execution_count": null,
   "metadata": {
    "execution": {
     "iopub.execute_input": "2025-06-17T09:16:07.139685Z",
     "iopub.status.busy": "2025-06-17T09:16:07.139316Z",
     "iopub.status.idle": "2025-06-17T09:16:07.292849Z",
     "shell.execute_reply": "2025-06-17T09:16:07.291872Z",
     "shell.execute_reply.started": "2025-06-17T09:16:07.139658Z"
    },
    "trusted": true
   },
   "outputs": [],
   "source": [
    "df_train=remove_common_sequences(df_train,df_test)\n",
    "df_train=remove_common_sequences(df_train,df_val)\n",
    "df_train=remove_common_sequences(df_train,df_Asian_flu)\n",
    "df_train=remove_common_sequences(df_train,df_hong_kong_flu)\n",
    "df_train=remove_common_sequences(df_train,df_covid)\n",
    "df_train=remove_common_sequences(df_train,df_cows)\n",
    "\n",
    "\n",
    "\n",
    "print(len(df_train))\n",
    "print(len(df_val))"
   ]
  },
  {
   "cell_type": "code",
   "execution_count": null,
   "metadata": {
    "execution": {
     "iopub.execute_input": "2025-06-17T09:16:07.305957Z",
     "iopub.status.busy": "2025-06-17T09:16:07.305712Z",
     "iopub.status.idle": "2025-06-17T09:16:07.336216Z",
     "shell.execute_reply": "2025-06-17T09:16:07.335219Z",
     "shell.execute_reply.started": "2025-06-17T09:16:07.305940Z"
    },
    "trusted": true
   },
   "outputs": [],
   "source": [
    "def get_all_combinations(alphabet, k):\n",
    "    return [''.join(p) for p in product(alphabet, repeat=k)]\n",
    "\n",
    "# All the m-mers (not k-mers!) combinations\n",
    "combos = get_all_combinations(alphabet, m)\n",
    "combo_index = {mer: i for i, mer in enumerate(combos)}  # Faster lookup\n",
    "\n",
    "def get_kmers(seq, k):\n",
    "    return [seq[i:i+k] for i in range(len(seq) - k + 1)]\n",
    "\n",
    "def get_minimizer(kmer, m):\n",
    "    \"\"\"\n",
    "    Get lex smallest m-mer in both the k-mer and its reverse.\n",
    "    \"\"\"\n",
    "    kmer_rev = kmer[::-1]\n",
    "    all_mmers = [kmer[i:i+m] for i in range(len(kmer) - m + 1)]\n",
    "    all_mmers += [kmer_rev[i:i+m] for i in range(len(kmer_rev) - m + 1)]\n",
    "    return min(all_mmers)\n",
    "\n",
    "def comp_minimizers(seq, k, m):\n",
    "    \"\"\"Return list of minimizers for k-mers in sequence\"\"\"\n",
    "    kmers = get_kmers(seq, k)\n",
    "    return [get_minimizer(kmer, m) for kmer in kmers]\n",
    "\n",
    "def get_alphabet_count(col, alphabet):\n",
    "    \"\"\"Return count vector of characters in one column of matrix A\"\"\"\n",
    "    counter = Counter(col)\n",
    "    return np.array([counter.get(char, 0) for char in alphabet])\n",
    "\n",
    "def get_p_c():\n",
    "    # Codon-based number of mappings to amino acids\n",
    "    codon_table = {\n",
    "        'A': 4, 'C': 2, 'D': 2, 'E': 2, 'F': 2, 'G': 4,\n",
    "        'H': 2, 'I': 3, 'K': 2, 'L': 6, 'M': 1, 'N': 2,\n",
    "        'P': 4, 'Q': 2, 'R': 6, 'S': 6, 'T': 4, 'V': 4,\n",
    "        'W': 1, 'Y': 2\n",
    "    }\n",
    "    # Return vector for p(c) aligned with the alphabet\n",
    "    return np.array([codon_table.get(c, 1) / 61 for c in alphabet])\n",
    "\n",
    "def comp_pwm(pfm, p_c):\n",
    "    # Step 1: Add pseudocounts\n",
    "    pfm = pfm + pseudo_count\n",
    "    # Step 2: Compute PPM with small constant to avoid division by zero\n",
    "    ppm = pfm / (np.sum(pfm, axis=0) + 1e-9)\n",
    "    # Step 3: Compute log-odds PWM\n",
    "    return np.log2(ppm / p_c[:, np.newaxis])\n",
    "\n",
    "def comp_mmers_score(mmer, pwm):\n",
    "    # Score is sum of weights for each character position\n",
    "    # W(\"AC\") = W['A'][0] + W['C'][1]\n",
    "    return sum(pwm[char_to_idx[c], i] for i, c in enumerate(mmer))\n",
    "\n",
    "pfm = np.zeros((alphabet_size, m))\n",
    "v = np.zeros(len(combos))\n",
    "\n",
    "def Virus2Vec(S, alphabet, k, m):\n",
    "    V = np.zeros((len(S), len(combos)), dtype=np.float32)\n",
    "    for j, seq  in enumerate(tqdm(S, desc=\"Processing sequences\")):\n",
    "        A = comp_minimizers(seq, k, m)  # List of minimizers (m-mers)\n",
    "\n",
    "        pfm.fill(0)\n",
    "        for i in range(m):\n",
    "            # the chars in pos i in A\n",
    "            col = [a[i] for a in A]\n",
    "            # PFM[c][i] = count of character c at position i across all m-mers\n",
    "            pfm[:, i] = get_alphabet_count(col, alphabet)\n",
    "        \n",
    "        p_c = get_p_c()\n",
    "        pwm = comp_pwm(pfm, p_c)\n",
    "        \n",
    "        # Step 4: Score for all Minimizers\n",
    "        W   = [comp_mmers_score(mmer, pwm) for mmer in A]\n",
    "        # Step 5\n",
    "        v.fill(0) # feature vector of size |Σ|^m\n",
    "        for i in range(len(A)):    # A contains minimizers (m-mers)\n",
    "            idx = combo_index[A[i]]  # find index of the i-th m-mer\n",
    "            v[idx] += W[i]  # add the minimizer's score\n",
    "        V[j, :] = v  # Assign the computed vector directly to row j\n",
    "    return V"
   ]
  },
  {
   "cell_type": "code",
   "execution_count": null,
   "metadata": {
    "execution": {
     "iopub.execute_input": "2025-06-17T09:16:07.337525Z",
     "iopub.status.busy": "2025-06-17T09:16:07.337225Z",
     "iopub.status.idle": "2025-06-17T09:16:07.360987Z",
     "shell.execute_reply": "2025-06-17T09:16:07.360164Z",
     "shell.execute_reply.started": "2025-06-17T09:16:07.337503Z"
    },
    "trusted": true
   },
   "outputs": [],
   "source": [
    "def getXY(df):\n",
    "    X = Virus2Vec(df['Sequence'], alphabet, k, m)\n",
    "    Y = np.array((df[\"Class\"].str.lower() != \"human\").astype(int))\n",
    "    print(f\"X.shape is {X.shape}\")\n",
    "    print(f\"y_train.size is {Y.size}\")\n",
    "    return X,Y"
   ]
  },
  {
   "cell_type": "code",
   "execution_count": null,
   "metadata": {
    "execution": {
     "iopub.execute_input": "2025-06-17T09:16:07.362273Z",
     "iopub.status.busy": "2025-06-17T09:16:07.362019Z",
     "iopub.status.idle": "2025-06-17T09:19:07.178051Z",
     "shell.execute_reply": "2025-06-17T09:19:07.176830Z",
     "shell.execute_reply.started": "2025-06-17T09:16:07.362254Z"
    },
    "trusted": true
   },
   "outputs": [],
   "source": [
    "X_train,y_train = getXY(df_train)"
   ]
  },
  {
   "cell_type": "code",
   "execution_count": null,
   "metadata": {
    "execution": {
     "iopub.execute_input": "2025-06-17T09:19:07.179245Z",
     "iopub.status.busy": "2025-06-17T09:19:07.178969Z",
     "iopub.status.idle": "2025-06-17T09:19:22.396490Z",
     "shell.execute_reply": "2025-06-17T09:19:22.395349Z",
     "shell.execute_reply.started": "2025-06-17T09:19:07.179226Z"
    },
    "trusted": true
   },
   "outputs": [],
   "source": [
    "X_val,y_val = getXY(df_val)"
   ]
  },
  {
   "cell_type": "code",
   "execution_count": null,
   "metadata": {
    "execution": {
     "iopub.execute_input": "2025-06-17T09:19:22.407982Z",
     "iopub.status.busy": "2025-06-17T09:19:22.407613Z",
     "iopub.status.idle": "2025-06-17T09:19:54.441920Z",
     "shell.execute_reply": "2025-06-17T09:19:54.440878Z",
     "shell.execute_reply.started": "2025-06-17T09:19:22.407952Z"
    },
    "trusted": true
   },
   "outputs": [],
   "source": [
    "plot_tsne(X_val,y_val)"
   ]
  },
  {
   "cell_type": "code",
   "execution_count": null,
   "metadata": {
    "execution": {
     "iopub.execute_input": "2025-06-17T09:19:54.478692Z",
     "iopub.status.busy": "2025-06-17T09:19:54.478082Z",
     "iopub.status.idle": "2025-06-17T09:28:12.823544Z",
     "shell.execute_reply": "2025-06-17T09:28:12.822645Z",
     "shell.execute_reply.started": "2025-06-17T09:19:54.478655Z"
    },
    "trusted": true
   },
   "outputs": [],
   "source": [
    "rf = RandomForestClassifier(n_estimators=100, random_state=42)\n",
    "rf.fit(X_train, y_train)"
   ]
  },
  {
   "cell_type": "code",
   "execution_count": null,
   "metadata": {
    "execution": {
     "iopub.execute_input": "2025-06-17T09:28:12.824952Z",
     "iopub.status.busy": "2025-06-17T09:28:12.824568Z",
     "iopub.status.idle": "2025-06-17T09:28:13.422966Z",
     "shell.execute_reply": "2025-06-17T09:28:13.421710Z",
     "shell.execute_reply.started": "2025-06-17T09:28:12.824930Z"
    },
    "trusted": true
   },
   "outputs": [],
   "source": [
    "preds = RandomForest(X_val,y_val, rf)\n",
    "con_matrix(y_val,preds)"
   ]
  },
  {
   "cell_type": "code",
   "execution_count": null,
   "metadata": {
    "execution": {
     "iopub.execute_input": "2025-06-17T09:28:13.423985Z",
     "iopub.status.busy": "2025-06-17T09:28:13.423697Z",
     "iopub.status.idle": "2025-06-17T09:28:13.666592Z",
     "shell.execute_reply": "2025-06-17T09:28:13.665784Z",
     "shell.execute_reply.started": "2025-06-17T09:28:13.423964Z"
    },
    "trusted": true
   },
   "outputs": [],
   "source": [
    "joblib.dump(rf, 'RF_Virus2vec.pkl')"
   ]
  },
  {
   "cell_type": "code",
   "execution_count": null,
   "metadata": {
    "execution": {
     "iopub.execute_input": "2025-06-17T09:28:13.670074Z",
     "iopub.status.busy": "2025-06-17T09:28:13.669818Z",
     "iopub.status.idle": "2025-06-17T09:36:28.568224Z",
     "shell.execute_reply": "2025-06-17T09:36:28.567157Z",
     "shell.execute_reply.started": "2025-06-17T09:28:13.670056Z"
    },
    "trusted": true
   },
   "outputs": [],
   "source": [
    "lr = LogisticRegression(max_iter=1000, random_state=42)\n",
    "lr.fit(X_train, y_train)"
   ]
  },
  {
   "cell_type": "code",
   "execution_count": null,
   "metadata": {
    "execution": {
     "iopub.execute_input": "2025-06-17T09:36:28.569489Z",
     "iopub.status.busy": "2025-06-17T09:36:28.569176Z",
     "iopub.status.idle": "2025-06-17T09:36:28.922477Z",
     "shell.execute_reply": "2025-06-17T09:36:28.921589Z",
     "shell.execute_reply.started": "2025-06-17T09:36:28.569460Z"
    },
    "trusted": true
   },
   "outputs": [],
   "source": [
    "preds = LogisticReg(X_val,y_val, lr)\n",
    "con_matrix(y_val,preds)"
   ]
  },
  {
   "cell_type": "code",
   "execution_count": null,
   "metadata": {
    "execution": {
     "iopub.execute_input": "2025-06-17T09:36:28.923635Z",
     "iopub.status.busy": "2025-06-17T09:36:28.923359Z",
     "iopub.status.idle": "2025-06-17T09:36:28.931028Z",
     "shell.execute_reply": "2025-06-17T09:36:28.930064Z",
     "shell.execute_reply.started": "2025-06-17T09:36:28.923616Z"
    },
    "trusted": true
   },
   "outputs": [],
   "source": [
    "# Save Error\n",
    "joblib.dump(lr, 'LR_Virus2vec.pkl')"
   ]
  },
  {
   "cell_type": "code",
   "execution_count": null,
   "metadata": {
    "execution": {
     "iopub.execute_input": "2025-06-17T09:36:28.932358Z",
     "iopub.status.busy": "2025-06-17T09:36:28.932035Z"
    },
    "trusted": true
   },
   "outputs": [],
   "source": [
    "svm = SVC(kernel='rbf',random_state=42)\n",
    "svm.fit(X_train, y_train)"
   ]
  },
  {
   "cell_type": "code",
   "execution_count": null,
   "metadata": {
    "execution": {
     "iopub.status.idle": "2025-06-17T11:50:18.287946Z",
     "shell.execute_reply": "2025-06-17T11:50:18.286891Z",
     "shell.execute_reply.started": "2025-06-17T11:41:59.524570Z"
    },
    "trusted": true
   },
   "outputs": [],
   "source": [
    "preds = SVM(X_val,y_val, svm)\n",
    "con_matrix(y_val,preds)"
   ]
  },
  {
   "cell_type": "code",
   "execution_count": null,
   "metadata": {
    "execution": {
     "iopub.execute_input": "2025-06-17T11:50:18.289607Z",
     "iopub.status.busy": "2025-06-17T11:50:18.289282Z",
     "iopub.status.idle": "2025-06-17T11:50:22.299707Z",
     "shell.execute_reply": "2025-06-17T11:50:22.298611Z",
     "shell.execute_reply.started": "2025-06-17T11:50:18.289585Z"
    },
    "trusted": true
   },
   "outputs": [],
   "source": [
    "# Save\n",
    "joblib.dump(svm, 'SVM_Virus2vec.pkl')"
   ]
  }
 ],
 "metadata": {
  "kaggle": {
   "accelerator": "none",
   "dataSources": [
    {
     "datasetId": 6981441,
     "sourceId": 12123416,
     "sourceType": "datasetVersion"
    },
    {
     "datasetId": 7663838,
     "sourceId": 12168419,
     "sourceType": "datasetVersion"
    }
   ],
   "dockerImageVersionId": 31040,
   "isGpuEnabled": false,
   "isInternetEnabled": true,
   "language": "python",
   "sourceType": "notebook"
  },
  "kernelspec": {
   "display_name": "Python 3",
   "language": "python",
   "name": "python3"
  },
  "language_info": {
   "codemirror_mode": {
    "name": "ipython",
    "version": 3
   },
   "file_extension": ".py",
   "mimetype": "text/x-python",
   "name": "python",
   "nbconvert_exporter": "python",
   "pygments_lexer": "ipython3",
   "version": "3.11.11"
  }
 },
 "nbformat": 4,
 "nbformat_minor": 4
}
