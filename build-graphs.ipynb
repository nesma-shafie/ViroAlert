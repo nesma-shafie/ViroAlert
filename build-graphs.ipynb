{
 "cells": [
  {
   "cell_type": "code",
   "execution_count": 26,
   "metadata": {
    "_cell_guid": "b1076dfc-b9ad-4769-8c92-a6c4dae69d19",
    "_uuid": "8f2839f25d086af736a60e9eeb907d3b93b6e0e5",
    "execution": {
     "iopub.execute_input": "2025-06-03T20:49:02.553509Z",
     "iopub.status.busy": "2025-06-03T20:49:02.553276Z",
     "iopub.status.idle": "2025-06-03T20:49:18.761323Z",
     "shell.execute_reply": "2025-06-03T20:49:18.760476Z",
     "shell.execute_reply.started": "2025-06-03T20:49:02.553493Z"
    },
    "trusted": true
   },
   "outputs": [
    {
     "name": "stdout",
     "output_type": "stream",
     "text": [
      "Requirement already satisfied: biopython in /usr/local/lib/python3.11/dist-packages (1.85)\n",
      "Requirement already satisfied: numpy in /usr/local/lib/python3.11/dist-packages (from biopython) (1.26.4)\n",
      "Requirement already satisfied: mkl_fft in /usr/local/lib/python3.11/dist-packages (from numpy->biopython) (1.3.8)\n",
      "Requirement already satisfied: mkl_random in /usr/local/lib/python3.11/dist-packages (from numpy->biopython) (1.2.4)\n",
      "Requirement already satisfied: mkl_umath in /usr/local/lib/python3.11/dist-packages (from numpy->biopython) (0.1.1)\n",
      "Requirement already satisfied: mkl in /usr/local/lib/python3.11/dist-packages (from numpy->biopython) (2025.1.0)\n",
      "Requirement already satisfied: tbb4py in /usr/local/lib/python3.11/dist-packages (from numpy->biopython) (2022.1.0)\n",
      "Requirement already satisfied: mkl-service in /usr/local/lib/python3.11/dist-packages (from numpy->biopython) (2.4.1)\n",
      "Requirement already satisfied: intel-openmp<2026,>=2024 in /usr/local/lib/python3.11/dist-packages (from mkl->numpy->biopython) (2024.2.0)\n",
      "Requirement already satisfied: tbb==2022.* in /usr/local/lib/python3.11/dist-packages (from mkl->numpy->biopython) (2022.1.0)\n",
      "Requirement already satisfied: tcmlib==1.* in /usr/local/lib/python3.11/dist-packages (from tbb==2022.*->mkl->numpy->biopython) (1.3.0)\n",
      "Requirement already satisfied: intel-cmplr-lib-rt in /usr/local/lib/python3.11/dist-packages (from mkl_umath->numpy->biopython) (2024.2.0)\n",
      "Requirement already satisfied: intel-cmplr-lib-ur==2024.2.0 in /usr/local/lib/python3.11/dist-packages (from intel-openmp<2026,>=2024->mkl->numpy->biopython) (2024.2.0)\n",
      "Requirement already satisfied: rdkit-pypi in /usr/local/lib/python3.11/dist-packages (2022.9.5)\n",
      "Requirement already satisfied: numpy in /usr/local/lib/python3.11/dist-packages (from rdkit-pypi) (1.26.4)\n",
      "Requirement already satisfied: Pillow in /usr/local/lib/python3.11/dist-packages (from rdkit-pypi) (11.1.0)\n",
      "Requirement already satisfied: mkl_fft in /usr/local/lib/python3.11/dist-packages (from numpy->rdkit-pypi) (1.3.8)\n",
      "Requirement already satisfied: mkl_random in /usr/local/lib/python3.11/dist-packages (from numpy->rdkit-pypi) (1.2.4)\n",
      "Requirement already satisfied: mkl_umath in /usr/local/lib/python3.11/dist-packages (from numpy->rdkit-pypi) (0.1.1)\n",
      "Requirement already satisfied: mkl in /usr/local/lib/python3.11/dist-packages (from numpy->rdkit-pypi) (2025.1.0)\n",
      "Requirement already satisfied: tbb4py in /usr/local/lib/python3.11/dist-packages (from numpy->rdkit-pypi) (2022.1.0)\n",
      "Requirement already satisfied: mkl-service in /usr/local/lib/python3.11/dist-packages (from numpy->rdkit-pypi) (2.4.1)\n",
      "Requirement already satisfied: intel-openmp<2026,>=2024 in /usr/local/lib/python3.11/dist-packages (from mkl->numpy->rdkit-pypi) (2024.2.0)\n",
      "Requirement already satisfied: tbb==2022.* in /usr/local/lib/python3.11/dist-packages (from mkl->numpy->rdkit-pypi) (2022.1.0)\n",
      "Requirement already satisfied: tcmlib==1.* in /usr/local/lib/python3.11/dist-packages (from tbb==2022.*->mkl->numpy->rdkit-pypi) (1.3.0)\n",
      "Requirement already satisfied: intel-cmplr-lib-rt in /usr/local/lib/python3.11/dist-packages (from mkl_umath->numpy->rdkit-pypi) (2024.2.0)\n",
      "Requirement already satisfied: intel-cmplr-lib-ur==2024.2.0 in /usr/local/lib/python3.11/dist-packages (from intel-openmp<2026,>=2024->mkl->numpy->rdkit-pypi) (2024.2.0)\n",
      "Collecting fair-esm\n",
      "  Downloading fair_esm-2.0.0-py3-none-any.whl.metadata (37 kB)\n",
      "Downloading fair_esm-2.0.0-py3-none-any.whl (93 kB)\n",
      "\u001b[2K   \u001b[90m━━━━━━━━━━━━━━━━━━━━━━━━━━━━━━━━━━━━━━━━\u001b[0m \u001b[32m93.1/93.1 kB\u001b[0m \u001b[31m3.9 MB/s\u001b[0m eta \u001b[36m0:00:00\u001b[0m\n",
      "\u001b[?25hInstalling collected packages: fair-esm\n",
      "Successfully installed fair-esm-2.0.0\n"
     ]
    }
   ],
   "source": [
    "!pip install --upgrade --no-cache-dir biopython\n",
    "!pip install rdkit-pypi\n",
    "!pip install -q torch-scatter -f https://data.pyg.org/whl/torch-2.2.0+cu118.html\n",
    "!pip install -q torch-sparse -f https://data.pyg.org/whl/torch-2.2.0+cu118.html\n",
    "!pip install -q torch-geometric\n",
    "!pip install fair-esm\n"
   ]
  },
  {
   "cell_type": "code",
   "execution_count": null,
   "metadata": {
    "execution": {
     "iopub.execute_input": "2025-06-03T20:51:36.181600Z",
     "iopub.status.busy": "2025-06-03T20:51:36.181322Z",
     "iopub.status.idle": "2025-06-03T20:51:36.188853Z",
     "shell.execute_reply": "2025-06-03T20:51:36.187966Z",
     "shell.execute_reply.started": "2025-06-03T20:51:36.181582Z"
    },
    "trusted": true
   },
   "outputs": [],
   "source": [
    "import numpy as np\n",
    "import pandas as pd \n",
    "from Bio.Align import substitution_matrices\n",
    "from rdkit import Chem\n",
    "from tqdm import tqdm\n",
    "from joblib import Parallel, delayed\n",
    "import pickle\n",
    "import esm\n",
    "import torch\n",
    "\n",
    "\n"
   ]
  },
  {
   "cell_type": "code",
   "execution_count": null,
   "metadata": {},
   "outputs": [],
   "source": [
    "def one_hot_encode(value, valid_values):\n",
    "    if value not in valid_values:\n",
    "        value = valid_values[-1]\n",
    "    return [value == item for item in valid_values]\n",
    "\n",
    "\n",
    "def get_atom_features(atom):\n",
    "    atom_symbols = [\n",
    "        'C', 'N', 'O', 'S', 'F', 'Si', 'P', 'Cl', 'Br', 'Mg', 'Na', 'Ca',\n",
    "        'Fe', 'As', 'Al', 'I', 'B', 'V', 'K', 'Tl', 'Yb', 'Sb', 'Sn',\n",
    "        'Ag', 'Pd', 'Co', 'Se', 'Ti', 'Zn', 'H', 'Li', 'Ge', 'Cu', 'Au',\n",
    "        'Ni', 'Cd', 'In', 'Mn', 'Zr', 'Cr', 'Pt', 'Hg', 'Pb', 'X'\n",
    "    ]\n",
    "    degrees = list(range(11))\n",
    "    hydrogen_counts = list(range(11))\n",
    "    valences = list(range(11))\n",
    "\n",
    "    features = (\n",
    "        one_hot_encode(atom.GetSymbol(), atom_symbols) +\n",
    "        one_hot_encode(atom.GetDegree(), degrees) +\n",
    "        one_hot_encode(atom.GetTotalNumHs(), hydrogen_counts) +\n",
    "        one_hot_encode(atom.GetImplicitValence(), valences) +\n",
    "        [atom.GetIsAromatic()]\n",
    "    )\n",
    "\n",
    "    return np.array(features)\n"
   ]
  },
  {
   "cell_type": "code",
   "execution_count": null,
   "metadata": {
    "execution": {
     "iopub.execute_input": "2025-06-03T20:46:50.690492Z",
     "iopub.status.busy": "2025-06-03T20:46:50.690279Z",
     "iopub.status.idle": "2025-06-03T20:46:50.715085Z",
     "shell.execute_reply": "2025-06-03T20:46:50.714002Z",
     "shell.execute_reply.started": "2025-06-03T20:46:50.690478Z"
    },
    "trusted": true
   },
   "outputs": [],
   "source": [
    "def smile_graph(smile):\n",
    "    nodes=[]\n",
    "    edges=[]\n",
    "    edges_type=[]\n",
    "    mol = Chem.MolFromSmiles(smile)\n",
    "    mol_size = mol.GetNumAtoms()\n",
    "    for atom in mol.GetAtoms():\n",
    "        nodes.append(get_atom_features(atom))\n",
    "    \n",
    "    for bond in mol.GetBonds():\n",
    "        start = bond.GetBeginAtomIdx()\n",
    "        end = bond.GetEndAtomIdx()\n",
    "        bond_type = bond.GetBondTypeAsDouble()\n",
    "\n",
    "        # Since molecular graphs are undirected, add both directions\n",
    "        edges.append([start, end])\n",
    "        edges.append([end, start])\n",
    "\n",
    "        edges_type.append(bond_type)\n",
    "        edges_type.append(bond_type)\n",
    "        \n",
    "\n",
    "    return mol_size,nodes,edges,edges_type\n",
    "\n",
    "    # for atom in mol.GetAtoms():\n",
    "    #     print(atom.GetIdx(), atom.GetSymbol())\n",
    "    # return  Draw.MolToImage(mol)\n",
    "    \n",
    "   \n",
    "    "
   ]
  },
  {
   "cell_type": "code",
   "execution_count": null,
   "metadata": {},
   "outputs": [],
   "source": [
    "def esm_model(model,alphabet,seq):\n",
    "   \n",
    "    batch_converter = alphabet.get_batch_converter()\n",
    "    batch_labels, batch_strs, batch_tokens = batch_converter([(\"protein\", seq)])\n",
    "    with torch.no_grad():\n",
    "        results = model(batch_tokens, repr_layers=[16], return_contacts=True)\n",
    "    \n",
    "    contact_map = results[\"contacts\"]  # Shape: [1, L, L]\n",
    "    \n",
    "   \n",
    "    return contact_map"
   ]
  },
  {
   "cell_type": "code",
   "execution_count": null,
   "metadata": {},
   "outputs": [],
   "source": [
    "def split_sequence(seq, window_size=1000, stride=500):\n",
    "    windows = []\n",
    "    for start in range(0, len(seq), stride):\n",
    "        end = min(start + window_size, len(seq))\n",
    "        if end - start < 2:  # skip too-short fragments\n",
    "            break\n",
    "        windows.append((start, seq[start:end]))\n",
    "        if end == len(seq):\n",
    "            break\n",
    "    return windows"
   ]
  },
  {
   "cell_type": "code",
   "execution_count": null,
   "metadata": {},
   "outputs": [],
   "source": [
    "def protein_graph(model, alphabet, seq, threshold=0.5, window_size=1000, stride=500):\n",
    "    aa_dict = {aa: i for i, aa in enumerate(\"ACDEFGHIKLMNPQRSTVWY\")}\n",
    "    L = len(seq)\n",
    "    \n",
    "    # Build node features (one-hot encoding for the full sequence)\n",
    "    node_features = torch.eye(20)[[aa_dict.get(aa, 0) for aa in seq]]  # [L, 20]\n",
    "\n",
    "    # Containers for merged edges\n",
    "    edge_index = []\n",
    "    edge_attr = []\n",
    "\n",
    "    windows = split_sequence(seq, window_size, stride)\n",
    "\n",
    "    for start_idx, subseq in windows:\n",
    "        contact_map = esm_model(model, alphabet, subseq)[0]  # shape: [L_window, L_window]\n",
    "        L_win = len(subseq)\n",
    "\n",
    "        for i in range(L_win):\n",
    "            for j in range(L_win):\n",
    "                prob = contact_map[i, j].item()\n",
    "                if prob > threshold:\n",
    "                    global_i = start_idx + i\n",
    "                    global_j = start_idx + j\n",
    "                    if global_i < L and global_j < L:\n",
    "                        edge_index.append([global_i, global_j])\n",
    "                        edge_attr.append(prob)\n",
    "\n",
    "    return node_features, edge_index, edge_attr"
   ]
  },
  {
   "cell_type": "code",
   "execution_count": null,
   "metadata": {
    "execution": {
     "iopub.execute_input": "2025-06-03T20:46:50.741154Z",
     "iopub.status.busy": "2025-06-03T20:46:50.740950Z",
     "iopub.status.idle": "2025-06-03T20:46:50.870757Z",
     "shell.execute_reply": "2025-06-03T20:46:50.870113Z",
     "shell.execute_reply.started": "2025-06-03T20:46:50.741139Z"
    },
    "trusted": true
   },
   "outputs": [
    {
     "name": "stdout",
     "output_type": "stream",
     "text": [
      "                                    Protein_Sequence  \\\n",
      "0  PISPIETVPVKLKPGMDGPKVKQWPLTEEKIKALVEICTEMEKEGK...   \n",
      "1  MTMDEQQSQAVAPVYVGGFLARYDQSPDEAELLLPRDVVEHWLHAQ...   \n",
      "2  PQVTLWQRPLVTIKIGGQLKEALLDTGADDTVLEEMSLPGRWKPKM...   \n",
      "3  PQVTLWQRPLVTIKIGGQLKEALLDTGADDTVLEEMSLPGRWKPKM...   \n",
      "4  PQVTLWQRPLVTIKIGGQLKEALLDTGADDTVLEEMSLPGRWKPKM...   \n",
      "\n",
      "                                              SMILES     pIC50  \n",
      "0                       S=C(NCN1CCOCC1)Nc1ccc(Br)cn1  5.000000  \n",
      "1                  CC(=O)O[C@@H]1CC(=O)N1C(=O)NC(C)C  4.000000  \n",
      "2  CCC(C)[C@H](NC(=O)[C@@H]1CCCN1[P@@](=O)(OC)[C@...  7.522879  \n",
      "3  CCC(C)[C@H](NC(=O)[C@@H]1CCCN1[P@@](=O)(OC)[C@...  7.031517  \n",
      "4  COC(=O)N[C@H](C(=O)N[C@@H](Cc1ccccc1)C(O)CN(Cc...  7.376751  \n"
     ]
    }
   ],
   "source": [
    "# Read the CSV file\n",
    "df = pd.read_csv(\"/kaggle/input/virus-drug/virus_drug_interactions.csv\")\n",
    "df = df.drop(df.columns[0], axis=1)\n",
    "# Display the first few rows\n",
    "print(df.head())"
   ]
  },
  {
   "cell_type": "code",
   "execution_count": null,
   "metadata": {
    "execution": {
     "iopub.execute_input": "2025-06-03T20:47:41.123805Z",
     "iopub.status.busy": "2025-06-03T20:47:41.123501Z",
     "iopub.status.idle": "2025-06-03T20:47:56.609221Z",
     "shell.execute_reply": "2025-06-03T20:47:56.608382Z",
     "shell.execute_reply.started": "2025-06-03T20:47:41.123784Z"
    },
    "trusted": true
   },
   "outputs": [
    {
     "name": "stderr",
     "output_type": "stream",
     "text": [
      "19451it [00:15, 1279.32it/s]"
     ]
    },
    {
     "name": "stdout",
     "output_type": "stream",
     "text": [
      "19451 4\n"
     ]
    },
    {
     "name": "stderr",
     "output_type": "stream",
     "text": [
      "\n"
     ]
    }
   ],
   "source": [
    "drugs = df['SMILES']\n",
    "drug_graphs=[]\n",
    "for i,drug in tqdm(enumerate(drugs)):\n",
    "    graph=smile_graph(drug)\n",
    "    drug_graphs.append(graph)\n",
    "print(len(drug_graphs),len(drug_graphs[0]))\n",
    "\n"
   ]
  },
  {
   "cell_type": "code",
   "execution_count": null,
   "metadata": {
    "execution": {
     "iopub.execute_input": "2025-06-03T20:49:23.247667Z",
     "iopub.status.busy": "2025-06-03T20:49:23.247271Z",
     "iopub.status.idle": "2025-06-03T20:50:43.760086Z",
     "shell.execute_reply": "2025-06-03T20:50:43.758813Z",
     "shell.execute_reply.started": "2025-06-03T20:49:23.247647Z"
    },
    "trusted": true
   },
   "outputs": [
    {
     "name": "stderr",
     "output_type": "stream",
     "text": [
      "Downloading: \"https://dl.fbaipublicfiles.com/fair-esm/models/esm1b_t33_650M_UR50S.pt\" to /root/.cache/torch/hub/checkpoints/esm1b_t33_650M_UR50S.pt\n",
      "Downloading: \"https://dl.fbaipublicfiles.com/fair-esm/regression/esm1b_t33_650M_UR50S-contact-regression.pt\" to /root/.cache/torch/hub/checkpoints/esm1b_t33_650M_UR50S-contact-regression.pt\n"
     ]
    }
   ],
   "source": [
    "model, alphabet = esm.pretrained.esm1b_t33_650M_UR50S()\n",
    "model.eval()\n",
    "protein_sequences = df['Protein_Sequence']\n",
    "unique_sequences = list(set(protein_sequences))"
   ]
  },
  {
   "cell_type": "code",
   "execution_count": null,
   "metadata": {
    "execution": {
     "execution_failed": "2025-06-03T20:52:25.207Z",
     "iopub.execute_input": "2025-06-03T20:51:39.306125Z",
     "iopub.status.busy": "2025-06-03T20:51:39.305846Z"
    },
    "trusted": true
   },
   "outputs": [
    {
     "name": "stderr",
     "output_type": "stream",
     "text": [
      "\n",
      "\n",
      "Processing proteins:   0%|          | 0/72 [00:00<?, ?it/s]\u001b[A\u001b[A\n",
      "\n",
      "Processing proteins:  11%|█         | 8/72 [00:18<02:26,  2.28s/it]\u001b[A\u001b[A"
     ]
    }
   ],
   "source": [
    "def compute_graph(protein):\n",
    "    return protein_graph(model, alphabet, protein)\n",
    "\n",
    "# Run in parallel using all CPU cores\n",
    "unique_graphs = Parallel(n_jobs=8)(\n",
    "    delayed(compute_graph)(protein) for protein in tqdm(unique_sequences, desc=\"Processing proteins\")\n",
    ")"
   ]
  },
  {
   "cell_type": "code",
   "execution_count": null,
   "metadata": {
    "trusted": true
   },
   "outputs": [],
   "source": [
    "sequence_to_graph = dict(zip(unique_sequences, unique_graphs))\n",
    "protein_graphs = [sequence_to_graph[seq] for seq in protein_sequences]\n",
    "print(len(protein_graphs), len(protein_graphs[0]))"
   ]
  },
  {
   "cell_type": "code",
   "execution_count": null,
   "metadata": {
    "execution": {
     "iopub.execute_input": "2025-06-03T20:46:21.479706Z",
     "iopub.status.busy": "2025-06-03T20:46:21.479450Z",
     "iopub.status.idle": "2025-06-03T20:46:24.562351Z",
     "shell.execute_reply": "2025-06-03T20:46:24.561326Z",
     "shell.execute_reply.started": "2025-06-03T20:46:21.479688Z"
    },
    "trusted": true
   },
   "outputs": [],
   "source": [
    "with open(\"drug_graphs.pkl\", \"wb\") as f:\n",
    "    pickle.dump(drug_graphs, f)\n",
    "with open(\"protein_graphs.pkl\", \"wb\") as f:\n",
    "    pickle.dump(protein_graphs, f)"
   ]
  }
 ],
 "metadata": {
  "kaggle": {
   "accelerator": "none",
   "dataSources": [
    {
     "datasetId": 7572023,
     "sourceId": 12034111,
     "sourceType": "datasetVersion"
    }
   ],
   "dockerImageVersionId": 31040,
   "isGpuEnabled": false,
   "isInternetEnabled": true,
   "language": "python",
   "sourceType": "notebook"
  },
  "kernelspec": {
   "display_name": "Python 3",
   "language": "python",
   "name": "python3"
  },
  "language_info": {
   "codemirror_mode": {
    "name": "ipython",
    "version": 3
   },
   "file_extension": ".py",
   "mimetype": "text/x-python",
   "name": "python",
   "nbconvert_exporter": "python",
   "pygments_lexer": "ipython3",
   "version": "3.11.11"
  }
 },
 "nbformat": 4,
 "nbformat_minor": 4
}
